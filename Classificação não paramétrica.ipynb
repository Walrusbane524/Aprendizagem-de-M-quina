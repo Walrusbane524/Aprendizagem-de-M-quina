{
 "cells": [
  {
   "cell_type": "markdown",
   "id": "cd43e0f4",
   "metadata": {},
   "source": [
    "# K Nearest Neighbors"
   ]
  },
  {
   "cell_type": "code",
   "execution_count": 5,
   "id": "b9f7db3b",
   "metadata": {},
   "outputs": [],
   "source": [
    "import numpy as np\n",
    "import matplotlib.pyplot as plt"
   ]
  },
  {
   "cell_type": "code",
   "execution_count": 56,
   "id": "0949728b",
   "metadata": {},
   "outputs": [],
   "source": [
    "class KNearestNeighbors:\n",
    "    \n",
    "    # Construtor\n",
    "    def __init__(self, x, y, k):\n",
    "        self.x = x\n",
    "        self.y = y\n",
    "        self.k = k\n",
    "    \n",
    "    # Getters\n",
    "    def getX(self):\n",
    "        return self.x\n",
    "        \n",
    "    def getY(self):\n",
    "        return self.y\n",
    "    \n",
    "    def getK(self):\n",
    "        return self.k\n",
    "    \n",
    "    # Setters\n",
    "    def setX(self, x):\n",
    "        self.x = x\n",
    "        \n",
    "    def setY(self, y):\n",
    "        self.y = y\n",
    "    \n",
    "    def setK(self, k):\n",
    "        self.k = k\n",
    "        \n",
    "    # Métodos\n",
    "    def distance(self, x1, x2):\n",
    "        return np.sqrt(((x1 - x2)**2).sum())\n",
    "    \n",
    "    def nearest(self, distances):\n",
    "        near = distances[0]\n",
    "        near_idx = 0\n",
    "        for i, d in enumerate(distances):\n",
    "            if d[0] < near[0]:\n",
    "                near = d\n",
    "                near_idx = i\n",
    "        return near, near_idx\n",
    "            \n",
    "    def k_nearest(self, distances):\n",
    "        k_near = np.zeros((self.k, self.x.shape[1]))\n",
    "        for i in range(self.k):\n",
    "            k_near[i], near_idx = self.nearest(distances)\n",
    "            distances = np.delete(distances, near_idx, axis=0)\n",
    "        return k_near\n",
    "    \n",
    "    def classify(self, new_x, append = False):\n",
    "        \n",
    "        distances = np.zeros(self.x.shape)\n",
    "        \n",
    "        for i, x in enumerate(self.x):\n",
    "            distances[i, 0] = self.distance(x, new_x)\n",
    "            distances[i, 1] = self.y[i]\n",
    "            \n",
    "        k_near = self.k_nearest(distances)\n",
    "        clss = round(k_near[:, 1].mean())\n",
    "        \n",
    "        if append:\n",
    "            self.x = np.vstack((self.x, new_x))\n",
    "            self.y = np.vstack((self.y, clss))\n",
    "        \n",
    "        return clss"
   ]
  },
  {
   "cell_type": "code",
   "execution_count": 58,
   "id": "305c7ea4",
   "metadata": {},
   "outputs": [
    {
     "name": "stdout",
     "output_type": "stream",
     "text": [
      "\n"
     ]
    },
    {
     "data": {
      "image/png": "[encoded data removed]",
      "text/plain": [
       "<Figure size 432x288 with 1 Axes>"
      ]
     },
     "metadata": {
      "needs_background": "light"
     },
     "output_type": "display_data"
    },
    {
     "data": {
      "image/png": "[encoded data removed]",
      "text/plain": [
       "<Figure size 432x288 with 1 Axes>"
      ]
     },
     "metadata": {
      "needs_background": "light"
     },
     "output_type": "display_data"
    },
    {
     "data": {
      "image/png": "[encoded data removed]",
      "text/plain": [
       "<Figure size 432x288 with 1 Axes>"
      ]
     },
     "metadata": {
      "needs_background": "light"
     },
     "output_type": "display_data"
    }
   ],
   "source": [
    "x = np.array([[1.5,   2], \n",
    "              [2,   2.9], \n",
    "              [1,   2.5], \n",
    "              [1.6, 2.7],\n",
    "              [4,     1],\n",
    "              [4.2, 1.5],\n",
    "              [3.9, 1.8],\n",
    "              [3.7, 1.6]])\n",
    "\n",
    "y = np.array([[0], \n",
    "              [0], \n",
    "              [0],\n",
    "              [0],\n",
    "              [1],\n",
    "              [1],\n",
    "              [1],\n",
    "              [1]])\n",
    "\n",
    "new_x = np.array([[1.3, 2.25],\n",
    "                  [3.9, 1.25]])\n",
    "\n",
    "knn = KNearestNeighbors(x, y, 3)\n",
    "\n",
    "knn.classify(new_x[0], append=True)\n",
    "knn.classify(new_x[1], append=True)\n",
    "\n",
    "x_with_new_data = knn.getX()\n",
    "y_with_new_data = knn.getY()\n",
    "\n",
    "print()\n",
    "\n",
    "plt.title(\"Dados iniciais\")\n",
    "\n",
    "for i in range(x.shape[0]):\n",
    "    if y[i] == 0:\n",
    "        plt.plot(x[i,0], x[i,1], 'ro')\n",
    "    else:\n",
    "        plt.plot(x[i,0], x[i,1], 'go')\n",
    "\n",
    "plt.show()\n",
    "\n",
    "plt.title(\"Novos pontos\")\n",
    "\n",
    "for i in range(new_x.shape[0]):\n",
    "    plt.plot(new_x[i,0], new_x[i,1], 'bo')\n",
    "\n",
    "plt.show()\n",
    "\n",
    "plt.title(\"Dados com novos pontos\")\n",
    "\n",
    "for i in range(x_with_new_data.shape[0]):\n",
    "    if y_with_new_data[i] == 0:\n",
    "        plt.plot(x_with_new_data[i,0], x_with_new_data[i,1], 'ro')\n",
    "    else:\n",
    "        plt.plot(x_with_new_data[i,0], x_with_new_data[i,1], 'go')\n",
    "\n",
    "plt.show()"
   ]
  },
  {
   "cell_type": "code",
   "execution_count": null,
   "id": "6aa4a868",
   "metadata": {},
   "outputs": [],
   "source": []
  },
  {
   "cell_type": "code",
   "execution_count": null,
   "id": "7661268b",
   "metadata": {},
   "outputs": [],
   "source": []
  }
 ],
 "metadata": {
  "kernelspec": {
   "display_name": "Python 3 (ipykernel)",
   "language": "python",
   "name": "python3"
  },
  "language_info": {
   "codemirror_mode": {
    "name": "ipython",
    "version": 3
   },
   "file_extension": ".py",
   "mimetype": "text/x-python",
   "name": "python",
   "nbconvert_exporter": "python",
   "pygments_lexer": "ipython3",
   "version": "3.10.6"
  }
 },
 "nbformat": 4,
 "nbformat_minor": 5
}
