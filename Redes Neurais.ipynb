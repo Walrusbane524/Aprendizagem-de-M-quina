{
 "cells": [
  {
   "cell_type": "code",
   "execution_count": 423,
   "metadata": {},
   "outputs": [],
   "source": [
    "import numpy as np\n",
    "import matplotlib.pyplot as plt"
   ]
  },
  {
   "attachments": {},
   "cell_type": "markdown",
   "metadata": {},
   "source": [
    "## Perceptron de Rosenblatt"
   ]
  },
  {
   "cell_type": "code",
   "execution_count": 424,
   "metadata": {},
   "outputs": [],
   "source": [
    "class Perceptron:\n",
    "\n",
    "    # Inicializador\n",
    "    def __init__(self, x, y, addBias = True, bias = 1):\n",
    "        self.x = x\n",
    "        if addBias:\n",
    "            biasColumn = np.full((x.shape[0], 1), bias)\n",
    "            self.x = np.concatenate((biasColumn, self.x), axis=1)\n",
    "        self.y = y\n",
    "        self.w = np.zeros(self.x.shape[1]).reshape(-1,1)\n",
    "    \n",
    "    # Setter\n",
    "    def setXY(self, x, y):\n",
    "        self.x = x\n",
    "        self.y = y\n",
    "        self.w = np.ones(self.x.shape[1]).reshape(-1,1)\n",
    "    \n",
    "    # Getters\n",
    "    def getX(self):\n",
    "        return self.x\n",
    "\n",
    "    def getY(self):\n",
    "        return self.y\n",
    "    \n",
    "    def getW(self):\n",
    "        return self.w\n",
    "\n",
    "    # Apenas para debug\n",
    "    def getDecisionBoundary(self):\n",
    "        # Extract the weights\n",
    "        w0 = self.w[0]\n",
    "        w1 = self.w[1]\n",
    "        w2 = self.w[2]\n",
    "\n",
    "        # Define the x range for plotting the decision boundary line\n",
    "        x_range = np.linspace(np.min(self.x[:, 1]), np.max(self.x[:, 1]), 100)\n",
    "\n",
    "        # Compute the corresponding y values for the decision boundary line\n",
    "        y_range = (-w0 - w1 * x_range) / w2\n",
    "\n",
    "        return x_range, y_range\n",
    "\n",
    "\n",
    "    # Métodos\n",
    "\n",
    "    def sign(self, z):\n",
    "        newz = np.sign(z)\n",
    "        newz[newz == 0] = 1\n",
    "        return newz\n",
    "    \n",
    "    def cost(self):\n",
    "        cost = np.zeros(self.y.shape)\n",
    "        yhat = self.x @ self.w\n",
    "        cost = np.maximum(cost, -(self.y * yhat))\n",
    "        \n",
    "        return cost.sum()\n",
    "\n",
    "    def train(self, alpha = 1, max_iterations = 100):\n",
    "        e = np.zeros(self.y.shape)\n",
    "        zero_error = np.zeros(e.shape)\n",
    "        cost = np.array([])\n",
    "        # iteration = 0\n",
    "\n",
    "        for it in range(max_iterations):\n",
    "            for i in range(self.x.shape[0]):\n",
    "                yhat = self.sign(self.x[i] @ self.w)\n",
    "                e[i] = self.y[i] - yhat\n",
    "                self.w += (alpha * (e[i] * self.x[i])).reshape(-1,1)\n",
    "                cost = np.append(cost, self.cost())\n",
    "                # iteration += 1\n",
    "\n",
    "            if np.array_equal(e, zero_error):\n",
    "                break\n",
    "        \n",
    "        # print(iteration)\n",
    "\n",
    "        return cost\n",
    "    \n",
    "    def predict(self, newX, addOnes = True):\n",
    "        if addOnes:\n",
    "            return np.sign(np.concatenate((np.ones((newX.shape[0], 1)), newX), axis=1) @ self.w)\n",
    "        else:    \n",
    "            return np.sign(newX @ self.w)\n"
   ]
  },
  {
   "cell_type": "code",
   "execution_count": 425,
   "metadata": {},
   "outputs": [
    {
     "name": "stdout",
     "output_type": "stream",
     "text": [
      "[[ 0.]\n",
      " [ 2.]\n",
      " [-2.]]\n",
      "[[-1.]\n",
      " [-1.]\n",
      " [ 1.]\n",
      " [ 1.]\n",
      " [ 1.]]\n"
     ]
    },
    {
     "data": {
      "image/png": "[encoded data removed]",
      "text/plain": [
       "<Figure size 432x288 with 1 Axes>"
      ]
     },
     "metadata": {
      "needs_background": "light"
     },
     "output_type": "display_data"
    },
    {
     "data": {
      "image/png": "[encoded data removed]",
      "text/plain": [
       "<Figure size 432x288 with 1 Axes>"
      ]
     },
     "metadata": {
      "needs_background": "light"
     },
     "output_type": "display_data"
    }
   ],
   "source": [
    "x = np.array([[1.0, 2.0], \n",
    "              [2.0, 4.0],\n",
    "              [2.0, 1.0],\n",
    "              [3.0, 1.5], \n",
    "              [4.0, 2.0]])\n",
    "\n",
    "y = np.array([[-1],\n",
    "              [-1],\n",
    "              [ 1],\n",
    "              [ 1],\n",
    "              [ 1]])\n",
    "\n",
    "perceptron = Perceptron(x, y)\n",
    "cost = perceptron.train(max_iterations=20)\n",
    "print(perceptron.getW())\n",
    "print(perceptron.predict(x))\n",
    "\n",
    "plt.title(\"Função de custo pelas iterações\")\n",
    "plt.plot(np.arange(len(cost)) + 1, cost)\n",
    "plt.show()\n",
    "\n",
    "plt.title(\"Dados de treino\")\n",
    "\n",
    "for i in range(x.shape[0]):\n",
    "    if y[i] == -1:\n",
    "        plt.plot(x[i,0], x[i,1], 'ro')\n",
    "    else:\n",
    "        plt.plot(x[i,0], x[i,1], 'go')\n",
    "\n",
    "x_range, y_range = perceptron.getDecisionBoundary()\n",
    "plt.plot(x_range, y_range, 'b-')\n",
    "\n",
    "plt.show()"
   ]
  }
 ],
 "metadata": {
  "kernelspec": {
   "display_name": "Python 3 (ipykernel)",
   "language": "python",
   "name": "python3"
  },
  "language_info": {
   "codemirror_mode": {
    "name": "ipython",
    "version": 3
   },
   "file_extension": ".py",
   "mimetype": "text/x-python",
   "name": "python",
   "nbconvert_exporter": "python",
   "pygments_lexer": "ipython3",
   "version": "3.10.6"
  },
  "orig_nbformat": 4
 },
 "nbformat": 4,
 "nbformat_minor": 2
}
