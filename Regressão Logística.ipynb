{
 "cells": [
  {
   "cell_type": "markdown",
   "id": "3d538d3a",
   "metadata": {},
   "source": [
    "## Regressão binária"
   ]
  },
  {
   "cell_type": "code",
   "execution_count": 62,
   "id": "d837fc8e",
   "metadata": {},
   "outputs": [],
   "source": [
    "import numpy as np\n",
    "import matplotlib.pyplot as plt"
   ]
  },
  {
   "cell_type": "code",
   "execution_count": 63,
   "id": "06688f45",
   "metadata": {},
   "outputs": [],
   "source": [
    "class BinaryLogisticalRegression:\n",
    "    \n",
    "    # Construtor\n",
    "    def __init__(self, x, y, addOnes = True):\n",
    "        if addOnes:\n",
    "            self.x = np.c_[np.ones(x.shape[0]), x]\n",
    "        else:\n",
    "            self.x = x\n",
    "        self.y = y\n",
    "        self.w = np.zeros(self.x.shape[1]).reshape(-1,1)\n",
    "        self.MSE = 0.0\n",
    "    \n",
    "    # Getters\n",
    "    def getX(self):\n",
    "        return self.x\n",
    "    \n",
    "    def getY(self):\n",
    "        return self.y\n",
    "    \n",
    "    def getW(self):\n",
    "        return self.w\n",
    "    \n",
    "    def getMSE(self):\n",
    "        return self.MSE\n",
    "    \n",
    "    # Setters\n",
    "    def setX(self, x, addOnes = True):\n",
    "        if addOnes:\n",
    "            x = np.c_[np.ones(x.shape[0]), x]\n",
    "        self.x = x\n",
    "        self.w = np.zeros(self.x.shape[1]).reshape(-1,1)\n",
    "    \n",
    "    def setY(self, y):\n",
    "        self.y = y\n",
    "    \n",
    "    # Métodos\n",
    "    def sigmoid(self, x):\n",
    "        return 1/(1 + np.exp(-x))\n",
    "    \n",
    "    def trainGD(self, alpha = 0.1, max_iterations = 100):\n",
    "    \n",
    "        n = len(self.y)\n",
    "        yhat = np.zeros(n).reshape(-1,1)\n",
    "        e = np.zeros(n).reshape(-1,1)\n",
    "                 \n",
    "        for t in range(max_iterations):\n",
    "            yhat = self.sigmoid(self.x @ self.w)\n",
    "            e = self.y - yhat\n",
    "            self.w[0] = self.w[0] + (alpha/n * e.sum())\n",
    "            for column in range(1, len(self.w)):\n",
    "                self.w[column] = self.w[column] + alpha/n * ((e * self.x[:,[column]]).sum())\n",
    "                    \n",
    "        self.MSE = ((e ** 2).sum())/(2*n)\n",
    "    \n",
    "    def test(self):\n",
    "        return self.y - (self.x @ self.w)\n",
    "    \n",
    "    def predict(self, x, addOnes = True):\n",
    "        if addOnes:\n",
    "            x = np.c_[np.ones(x.shape[0]), x]\n",
    "        return np.sign(x @ self.w)"
   ]
  },
  {
   "cell_type": "code",
   "execution_count": 65,
   "id": "1bf0b6c9",
   "metadata": {},
   "outputs": [
    {
     "data": {
      "image/png": "[encoded data removed]",
      "text/plain": [
       "<Figure size 640x480 with 1 Axes>"
      ]
     },
     "metadata": {},
     "output_type": "display_data"
    }
   ],
   "source": [
    "x = np.array([[1,   2], \n",
    "              [2,   4], \n",
    "              [3, 1.5], \n",
    "              [4,   2]])\n",
    "\n",
    "y = np.array([0, 0, 1, 1]).reshape(-1,1)\n",
    "\n",
    "regression = BinaryLogisticalRegression(x, y)\n",
    "regression.trainGD(max_iterations = 100)\n",
    "regression.test()\n",
    "ypredict = regression.predict(x)\n",
    "\n",
    "\n",
    "\n",
    "for i in range(x.shape[0]):\n",
    "    if ypredict[i] == -1:\n",
    "        plt.plot(x[i,0], x[i,1], 'ro')\n",
    "    else:\n",
    "        plt.plot(x[i,0], x[i,1], 'go')\n",
    "plt.show()"
   ]
  },
  {
   "cell_type": "markdown",
   "id": "9304c514",
   "metadata": {},
   "source": [
    "## Classificação multiclasse"
   ]
  },
  {
   "cell_type": "code",
   "execution_count": 2,
   "id": "055da749",
   "metadata": {},
   "outputs": [],
   "source": [
    "# Untested\n",
    "class MulticlassLogisticalRegression:\n",
    "    \n",
    "    # Construtor\n",
    "    def __init__(self, x, y, addOnes = True):\n",
    "        if addOnes:\n",
    "            self.x = np.c_[np.ones(x.shape[0]), x]\n",
    "        else:\n",
    "            self.x = x\n",
    "        self.y = y\n",
    "        self.w = np.zeros((self.x.shape[1], y.shape[1]))\n",
    "        self.MSE = 0.0\n",
    "    \n",
    "    # Getters\n",
    "    def getX(self):\n",
    "        return self.x\n",
    "    \n",
    "    def getY(self):\n",
    "        return self.y\n",
    "    \n",
    "    def getW(self):\n",
    "        return self.w\n",
    "    \n",
    "    def getMSE(self):\n",
    "        return self.MSE\n",
    "    \n",
    "    # Setters\n",
    "    def setXY(self, x, y, addOnes = True):\n",
    "        if addOnes:\n",
    "            x = np.c_[np.ones(x.shape[0]), x]\n",
    "        self.x = x\n",
    "        self.y = y\n",
    "        self.w = np.zeros((self.x.shape[1], y.shape[1]))\n",
    "    \n",
    "    # Métodos\n",
    "    def softmax(self, w, x, clss):\n",
    "        return np.exp(x @ w[:,clss])/(np.exp(x @ w).sum())\n",
    "    \n",
    "    def trainGD(self, alpha = 0.1, max_iterations = 100):\n",
    "    \n",
    "        yhat = np.zeros(self.y.shape)\n",
    "        e = np.zeros(self.y.shape)\n",
    "                 \n",
    "        for t in range(max_iterations):\n",
    "            for clss in range(w.shape[1]):\n",
    "                yhat[:, clss] = self.softmax(w, x, clss)\n",
    "            e = self.y - yhat\n",
    "            self.w[0, :] = self.w[0, :] + (alpha/n * e.sum())\n",
    "            for column in range(1, len(self.w)):\n",
    "                self.w[column, :] = self.w[column, :] + alpha/n * ((e * self.x[:,[column]]).sum())\n",
    "                    \n",
    "        self.MSE = ((e ** 2).sum())/(2*n)\n",
    "    \n",
    "    def test(self):\n",
    "        return self.y - (self.x @ self.w)\n",
    "    \n",
    "    def predict(self, x, addOnes = True):\n",
    "        if addOnes:\n",
    "            x = np.c_[np.ones(x.shape[0]), x]\n",
    "        return np.sign(x @ self.w)"
   ]
  },
  {
   "cell_type": "code",
   "execution_count": null,
   "id": "9117167a",
   "metadata": {},
   "outputs": [],
   "source": []
  }
 ],
 "metadata": {
  "kernelspec": {
   "display_name": "Python 3 (ipykernel)",
   "language": "python",
   "name": "python3"
  },
  "language_info": {
   "codemirror_mode": {
    "name": "ipython",
    "version": 3
   },
   "file_extension": ".py",
   "mimetype": "text/x-python",
   "name": "python",
   "nbconvert_exporter": "python",
   "pygments_lexer": "ipython3",
   "version": "3.10.6"
  }
 },
 "nbformat": 4,
 "nbformat_minor": 5
}
