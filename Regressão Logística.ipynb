{
 "cells": [
  {
   "cell_type": "markdown",
   "id": "3d538d3a",
   "metadata": {},
   "source": [
    "## Regressão binária"
   ]
  },
  {
   "cell_type": "code",
   "execution_count": 5,
   "id": "d837fc8e",
   "metadata": {},
   "outputs": [],
   "source": [
    "import numpy as np\n",
    "import matplotlib.pyplot as plt"
   ]
  },
  {
   "cell_type": "markdown",
   "id": "bfa3357c",
   "metadata": {},
   "source": [
    "## Classificação binária"
   ]
  },
  {
   "cell_type": "code",
   "execution_count": 39,
   "id": "06688f45",
   "metadata": {},
   "outputs": [],
   "source": [
    "class BinaryLogisticalRegression:\n",
    "    \n",
    "    # Construtor\n",
    "    def __init__(self, x, y, addOnes = True):\n",
    "        if addOnes:\n",
    "            self.x = np.c_[np.ones(x.shape[0]), x]\n",
    "        else:\n",
    "            self.x = x\n",
    "        self.y = y\n",
    "        self.w = np.zeros(self.x.shape[1]).reshape(-1,1)\n",
    "        self.MSE = 0.0\n",
    "    \n",
    "    # Getters\n",
    "    def getX(self):\n",
    "        return self.x\n",
    "    \n",
    "    def getY(self):\n",
    "        return self.y\n",
    "    \n",
    "    def getW(self):\n",
    "        return self.w\n",
    "    \n",
    "    def getMSE(self):\n",
    "        return self.MSE\n",
    "    \n",
    "    # Setters\n",
    "    def setX(self, x, addOnes = True):\n",
    "        if addOnes:\n",
    "            x = np.c_[np.ones(x.shape[0]), x]\n",
    "        self.x = x\n",
    "        self.w = np.zeros(self.x.shape[1]).reshape(-1,1)\n",
    "    \n",
    "    def setY(self, y):\n",
    "        self.y = y\n",
    "    \n",
    "    # Métodos\n",
    "    def sigmoid(self, x):\n",
    "        return 1/(1 + np.exp(-x))\n",
    "    \n",
    "    def trainGD(self, alpha = 0.1, max_iterations = 100):\n",
    "    \n",
    "        n = len(self.y)\n",
    "        yhat = np.zeros(n).reshape(-1,1)\n",
    "        e = np.zeros(n).reshape(-1,1)\n",
    "                 \n",
    "        for t in range(max_iterations):\n",
    "            yhat = self.sigmoid(self.x @ self.w)\n",
    "            e = self.y - yhat\n",
    "            self.w[0] = self.w[0] + (alpha/n * e.sum())\n",
    "            for column in range(1, len(self.w)):\n",
    "                self.w[column] = self.w[column] + alpha/n * ((e * self.x[:,[column]]).sum())\n",
    "                    \n",
    "        self.MSE = ((e ** 2).sum())/(2*n)\n",
    "    \n",
    "    def test(self):\n",
    "        return self.y - (self.x @ self.w)\n",
    "    \n",
    "    def predict(self, x, addOnes = True):\n",
    "        if addOnes:\n",
    "            x = np.c_[np.ones(x.shape[0]), x]\n",
    "        return np.sign(x @ self.w)"
   ]
  },
  {
   "cell_type": "code",
   "execution_count": 40,
   "id": "1bf0b6c9",
   "metadata": {},
   "outputs": [
    {
     "name": "stdout",
     "output_type": "stream",
     "text": [
      "[[-0.2075314 ]\n",
      " [ 1.52105197]\n",
      " [-1.46893804]]\n"
     ]
    },
    {
     "data": {
      "image/png": "[encoded data removed]",
      "text/plain": [
       "<Figure size 640x480 with 1 Axes>"
      ]
     },
     "metadata": {},
     "output_type": "display_data"
    }
   ],
   "source": [
    "x = np.array([[1,   2], \n",
    "              [2,   4], \n",
    "              [3, 1.5], \n",
    "              [4,   2]])\n",
    "\n",
    "y = np.array([0, 0, 1, 1]).reshape(-1,1)\n",
    "\n",
    "regression = BinaryLogisticalRegression(x, y)\n",
    "regression.trainGD(max_iterations = 100)\n",
    "regression.test()\n",
    "ypredict = regression.predict(x)\n",
    "\n",
    "print(regression.getW())\n",
    "\n",
    "\n",
    "for i in range(x.shape[0]):\n",
    "    if ypredict[i] == -1:\n",
    "        plt.plot(x[i,0], x[i,1], 'ro')\n",
    "    else:\n",
    "        plt.plot(x[i,0], x[i,1], 'go')\n",
    "plt.show()"
   ]
  },
  {
   "cell_type": "markdown",
   "id": "9304c514",
   "metadata": {},
   "source": [
    "## Classificação multiclasse"
   ]
  },
  {
   "cell_type": "code",
   "execution_count": 177,
   "id": "055da749",
   "metadata": {},
   "outputs": [],
   "source": [
    "class MulticlassLogisticalRegression:\n",
    "    \n",
    "    # Construtor\n",
    "    def __init__(self, x, y, addOnes = True):\n",
    "        if addOnes:\n",
    "            self.x = np.c_[np.ones(x.shape[0]), x]\n",
    "        else:\n",
    "            self.x = x\n",
    "        self.y = y\n",
    "        self.w = np.zeros((self.x.shape[1], y.shape[1]))\n",
    "        self.MSE = 0.0\n",
    "    \n",
    "    # Getters\n",
    "    def getX(self):\n",
    "        return self.x\n",
    "    \n",
    "    def getY(self):\n",
    "        return self.y\n",
    "    \n",
    "    def getW(self):\n",
    "        return self.w\n",
    "    \n",
    "    def getMSE(self):\n",
    "        return self.MSE\n",
    "    \n",
    "    # Setters\n",
    "    def setXY(self, x, y, addOnes = True):\n",
    "        if addOnes:\n",
    "            x = np.c_[np.ones(x.shape[0]), x]\n",
    "        self.x = x\n",
    "        self.y = y\n",
    "        self.w = np.zeros((self.x.shape[1], y.shape[1]))\n",
    "    \n",
    "    # Métodos\n",
    "    def softmax(self, w, x):\n",
    "        numerator = np.exp(x @ w)\n",
    "        denominator = np.sum(np.exp(x @ w), axis=1).reshape(-1,1)\n",
    "        return numerator/denominator\n",
    "    \n",
    "    def trainGD(self, alpha = 0.1, max_iterations = 100):\n",
    "    \n",
    "        n = self.y.shape[0]\n",
    "        yhat = np.zeros(self.y.shape)\n",
    "        e = np.zeros(self.y.shape)\n",
    "                 \n",
    "        for t in range(max_iterations):\n",
    "            yhat = self.softmax(self.w, self.x)\n",
    "            e = self.y - yhat\n",
    "            self.w = self.w + (alpha/n * (self.x.T @ e))\n",
    "                            \n",
    "        self.MSE = ((e ** 2).sum())/(2*n)\n",
    "    \n",
    "    def test(self):\n",
    "        return self.y - (self.x @ self.w)\n",
    "    \n",
    "    def predict(self, x, addOnes = True):\n",
    "        if addOnes:\n",
    "            x = np.c_[np.ones(x.shape[0]), x]\n",
    "        probabilities = self.softmax(self.w, x)\n",
    "        max_indexes = np.argmax(probabilities, axis=1)\n",
    "        prediction = np.zeros(probabilities.shape)\n",
    "        prediction[np.arange(len(max_indexes)), max_indexes] = 1\n",
    "        return prediction"
   ]
  },
  {
   "cell_type": "code",
   "execution_count": 182,
   "id": "9117167a",
   "metadata": {},
   "outputs": [
    {
     "data": {
      "image/png": "[encoded data removed]",
      "text/plain": [
       "<Figure size 640x480 with 1 Axes>"
      ]
     },
     "metadata": {},
     "output_type": "display_data"
    },
    {
     "data": {
      "image/png": "[encoded data removed]",
      "text/plain": [
       "<Figure size 640x480 with 1 Axes>"
      ]
     },
     "metadata": {},
     "output_type": "display_data"
    }
   ],
   "source": [
    "def getMaxIndex(y):\n",
    "    max_index = 0\n",
    "    max_value = y[0]\n",
    "    for clss in range(1, len(y)):\n",
    "        if y[clss] > max_value:\n",
    "            max_value = y[clss]\n",
    "            max_index = clss\n",
    "    return max_index\n",
    "\n",
    "x = np.array([[1.0, 0.25], \n",
    "              [2.0,  0.5], \n",
    "              [3.5,  1.0], \n",
    "              [4.0, 1.25],\n",
    "              [6.0,  2.0],\n",
    "              [6.5,  2.5]])\n",
    "\n",
    "y = np.array([[1, 0, 0], \n",
    "              [1, 0, 0], \n",
    "              [0, 1, 0], \n",
    "              [0, 1, 0],\n",
    "              [0, 0, 1], \n",
    "              [0, 0, 1]])\n",
    "\n",
    "x2 = np.array([[1.1, 0.2], \n",
    "              [2.3,  0.6], \n",
    "              [2.2,  0.8], \n",
    "              [3.9, 1.15],\n",
    "              [7.0,  2.5],\n",
    "              [6.8,  2.8]])\n",
    "\n",
    "regression = MulticlassLogisticalRegression(x, y)\n",
    "regression.trainGD(max_iterations = 1000)\n",
    "regression.test()\n",
    "ypredict = regression.predict(x2)\n",
    "\n",
    "for i in range(x.shape[0]):\n",
    "    max_index = getMaxIndex(y[i])\n",
    "    if max_index == 0:\n",
    "        plt.plot(x[i,0], x[i,1], 'ro')\n",
    "    elif max_index == 1:\n",
    "        plt.plot(x[i,0], x[i,1], 'go')\n",
    "    else:\n",
    "        plt.plot(x[i,0], x[i,1], 'bo')\n",
    "plt.show()\n",
    "\n",
    "for i in range(x2.shape[0]):\n",
    "    max_index = getMaxIndex(ypredict[i])\n",
    "    if max_index == 0:\n",
    "        plt.plot(x2[i,0], x2[i,1], 'ro')\n",
    "    elif max_index == 1:\n",
    "        plt.plot(x2[i,0], x2[i,1], 'go')\n",
    "    else:\n",
    "        plt.plot(x2[i,0], x2[i,1], 'bo')\n",
    "plt.show()"
   ]
  },
  {
   "cell_type": "markdown",
   "id": "e150571a",
   "metadata": {},
   "source": [
    "# Classificadores estatísticos\n",
    "## Naive Bayes Gaussiano"
   ]
  },
  {
   "cell_type": "code",
   "execution_count": 85,
   "id": "183e7041",
   "metadata": {},
   "outputs": [],
   "source": [
    "class NaiveBayesGaussiano:\n",
    "    \n",
    "    # Construtor \n",
    "    def __init__(self, x, y):\n",
    "        self.classes = np.eye(y.shape[1])\n",
    "        self.n_per_class = np.zeros((y.shape[1], 1))\n",
    "        self.class_priors = np.zeros((y.shape[1], 1)) # Probabilidade de cada classe\n",
    "        self.means = np.zeros((self.classes.shape[1], x.shape[1]))\n",
    "        self.variances = np.zeros((self.classes.shape[1], x.shape[1]))\n",
    "        \n",
    "        # Calcula n_per_class\n",
    "        for line in y:\n",
    "            for i in range(0, len(line)):\n",
    "                if line[i] == 1:\n",
    "                    self.n_per_class[i] += 1\n",
    "                    break\n",
    "        \n",
    "        # Calcula class_priors\n",
    "        for i in range(0, len(self.class_priors)):\n",
    "            self.class_priors[i] = self.n_per_class[i]/self.n_per_class.sum()\n",
    "        \n",
    "        # Calcula a média de cada atributo para cada classe\n",
    "        for i in range(0, y.shape[0]):\n",
    "            for c in range(self.classes.shape[0]):\n",
    "                if np.array_equal(y[i], self.classes[c]):\n",
    "                    self.means[c] += x[i]\n",
    "                    break      \n",
    "        for clss in range(0, y.shape[1]):\n",
    "            self.means[clss, :] = self.means[clss, :]/self.n_per_class[clss]\n",
    "    \n",
    "        # Calcula a variância de cada feature\n",
    "        for clss in range(self.classes.shape[0]):\n",
    "            for feature in range(x.shape[1]):\n",
    "                self.variances[clss, feature] = np.sum((x[y[:, clss] == 1, feature] - self.means[clss, feature])**2)/(self.n_per_class[clss] - 1)\n",
    "    \n",
    "    def predict(self, x):\n",
    "        prob = np.zeros((self.classes.shape[0], 1))\n",
    "        for clss in range(self.classes.shape[0]):\n",
    "            prob[clss] = np.log(self.class_priors[clss])\n",
    "            prob[clss] -= 0.5 * np.sum(np.log(2 * np.pi * self.variances[clss, :]))\n",
    "            prob[clss] -= 0.5 * np.sum(((x - self.means[clss, :])**2)/self.variances[clss, :])\n",
    "        print(prob)\n",
    "        return self.classes[np.argmax(prob)]"
   ]
  },
  {
   "cell_type": "code",
   "execution_count": 86,
   "id": "244c0479",
   "metadata": {},
   "outputs": [
    {
     "name": "stdout",
     "output_type": "stream",
     "text": [
      "[[1. 0. 0.]\n",
      " [0. 1. 0.]\n",
      " [0. 0. 1.]]\n",
      "[[0.33333333]\n",
      " [0.33333333]\n",
      " [0.33333333]]\n",
      "[[1.5   0.375]\n",
      " [3.75  1.125]\n",
      " [6.25  2.25 ]]\n",
      "[[0.5     0.03125]\n",
      " [0.125   0.03125]\n",
      " [0.125   0.125  ]]\n"
     ]
    },
    {
     "data": {
      "image/png": "[encoded data removed]",
      "text/plain": [
       "<Figure size 640x480 with 1 Axes>"
      ]
     },
     "metadata": {},
     "output_type": "display_data"
    },
    {
     "name": "stdout",
     "output_type": "stream",
     "text": [
      "[[  -1.50704781]\n",
      " [ -41.94390063]\n",
      " [-123.75704781]]\n",
      "[[ -1.37744781]\n",
      " [-18.38550063]\n",
      " [-84.67864781]]\n",
      "[[ -5.35704781]\n",
      " [ -4.66390063]\n",
      " [-52.10704781]]\n",
      "[[-13.30714781]\n",
      " [ -0.64430063]\n",
      " [-27.53744781]]\n",
      "[[-37.11704781]\n",
      " [-10.02390063]\n",
      " [ -8.79704781]]\n",
      "[[-141.35704781]\n",
      " [ -98.66390063]\n",
      " [  -5.35704781]]\n"
     ]
    },
    {
     "data": {
      "image/png": "[encoded data removed]",
      "text/plain": [
       "<Figure size 640x480 with 1 Axes>"
      ]
     },
     "metadata": {},
     "output_type": "display_data"
    }
   ],
   "source": [
    "def getMaxIndex(y):\n",
    "    max_index = 0\n",
    "    max_value = y[0]\n",
    "    for clss in range(1, len(y)):\n",
    "        if y[clss] > max_value:\n",
    "            max_value = y[clss]\n",
    "            max_index = clss\n",
    "    return max_index\n",
    "\n",
    "x = np.array([[1.0, 0.25], \n",
    "              [2.0,  0.5], \n",
    "              [3.5,  1.0], \n",
    "              [4.0, 1.25],\n",
    "              [6.0,  2.0],\n",
    "              [6.5,  2.5]])\n",
    "\n",
    "y = np.array([[1, 0, 0], \n",
    "              [1, 0, 0], \n",
    "              [0, 1, 0], \n",
    "              [0, 1, 0],\n",
    "              [0, 0, 1], \n",
    "              [0, 0, 1]])\n",
    "\n",
    "x_test = np.array([[ 1.1,  0.2],\n",
    "                   [2.02,  0.5],\n",
    "                   [ 3.0, 0.75],\n",
    "                   [3.99,  1.0],\n",
    "                   [ 5.0,  1.6],\n",
    "                   [ 7.0,  3.0]])\n",
    "\n",
    "y_predict = np.zeros((x_test.shape[0], y.shape[1]))\n",
    "\n",
    "naive = NaiveBayesGaussiano(x, y)\n",
    "\n",
    "print(naive.classes)\n",
    "print(naive.class_priors)\n",
    "print(naive.means)\n",
    "print(naive.variances)\n",
    "\n",
    "for i in range(x.shape[0]):\n",
    "    max_index = getMaxIndex(y[i])\n",
    "    if max_index == 0:\n",
    "        plt.plot(x[i,0], x[i,1], 'ro')\n",
    "    elif max_index == 1:\n",
    "        plt.plot(x[i,0], x[i,1], 'go')\n",
    "    else:\n",
    "        plt.plot(x[i,0], x[i,1], 'bo')\n",
    "\n",
    "plt.show()\n",
    "        \n",
    "for i in range(x_test.shape[0]):\n",
    "    y_predict[i] = naive.predict(x_test[i])\n",
    "    max_index = getMaxIndex(y_predict[i])\n",
    "    if max_index == 0:\n",
    "        plt.plot(x_test[i,0], x_test[i,1], 'ro')\n",
    "    elif max_index == 1:\n",
    "        plt.plot(x_test[i,0], x_test[i,1], 'go')\n",
    "    else:\n",
    "        plt.plot(x_test[i,0], x_test[i,1], 'bo')\n",
    "    \n",
    "plt.show()"
   ]
  },
  {
   "cell_type": "code",
   "execution_count": null,
   "id": "6b1e4bdc",
   "metadata": {},
   "outputs": [],
   "source": []
  },
  {
   "cell_type": "code",
   "execution_count": null,
   "id": "b623ee64",
   "metadata": {},
   "outputs": [],
   "source": []
  }
 ],
 "metadata": {
  "kernelspec": {
   "display_name": "Python 3 (ipykernel)",
   "language": "python",
   "name": "python3"
  },
  "language_info": {
   "codemirror_mode": {
    "name": "ipython",
    "version": 3
   },
   "file_extension": ".py",
   "mimetype": "text/x-python",
   "name": "python",
   "nbconvert_exporter": "python",
   "pygments_lexer": "ipython3",
   "version": "3.10.6"
  }
 },
 "nbformat": 4,
 "nbformat_minor": 5
}
