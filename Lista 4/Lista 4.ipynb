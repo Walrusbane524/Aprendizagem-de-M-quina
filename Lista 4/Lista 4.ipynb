{
 "cells": [
  {
   "cell_type": "code",
   "execution_count": 444,
   "metadata": {},
   "outputs": [],
   "source": [
    "import torch\n",
    "import torch.nn as nn\n",
    "import torch.optim as optim\n",
    "import numpy as np\n",
    "import matplotlib.pyplot as plt\n",
    "from sklearn.metrics import mean_absolute_percentage_error\n",
    "from sklearn.preprocessing import OneHotEncoder\n",
    "import random"
   ]
  },
  {
   "attachments": {},
   "cell_type": "markdown",
   "metadata": {},
   "source": [
    "## Z-score"
   ]
  },
  {
   "cell_type": "code",
   "execution_count": 445,
   "metadata": {},
   "outputs": [],
   "source": [
    "def zScoreScale(x):\n",
    "    data = x\n",
    "    mean = data.mean()\n",
    "    sig = np.sqrt(((data - mean)**2).sum())\n",
    "    scaled_x = np.zeros(x.shape)\n",
    "    \n",
    "    scaled_data = (data - mean)/sig\n",
    "    for i in range(x.shape[1]):\n",
    "        scaled_x[:,i] = scaled_data[:,i]\n",
    "    return scaled_x, mean, sig\n",
    "\n",
    "def zScoreDescale(x, mean, sig):\n",
    "    scaled_data = x\n",
    "    descaled_data = scaled_data * sig + mean\n",
    "    \n",
    "    descaled_x = np.zeros(x.shape)\n",
    "    for i in range(x.shape[1]):\n",
    "        descaled_x[:,i] = descaled_data[:,i]\n",
    "        \n",
    "    return descaled_x"
   ]
  },
  {
   "attachments": {},
   "cell_type": "markdown",
   "metadata": {},
   "source": [
    "## Min Max"
   ]
  },
  {
   "cell_type": "code",
   "execution_count": 446,
   "metadata": {},
   "outputs": [],
   "source": [
    "def minMaxScale(data):\n",
    "    min_value = np.min(data)\n",
    "    max_value = np.max(data)\n",
    "    normalized_data = (data - min_value)/(max_value - min_value)\n",
    "    \n",
    "    return normalized_data, min_value, max_value\n",
    "\n",
    "def minMaxDescale(normalized_data, min_value, max_value):\n",
    "    \n",
    "    denormalized_data = (normalized_data * (max_value - min_value)) + min_value\n",
    "    \n",
    "    return denormalized_data"
   ]
  },
  {
   "attachments": {},
   "cell_type": "markdown",
   "metadata": {},
   "source": [
    "## Redes neurais"
   ]
  },
  {
   "cell_type": "code",
   "execution_count": 447,
   "metadata": {},
   "outputs": [],
   "source": [
    "class TanhRegressionNeuralNetwork(nn.Module):\n",
    "    def __init__(self, input_size, hidden_size, output_size):\n",
    "        super(TanhRegressionNeuralNetwork, self).__init__()\n",
    "        self.hidden = nn.Linear(input_size, hidden_size)\n",
    "        self.tanh = nn.Tanh()\n",
    "        self.output = nn.Linear(hidden_size, output_size)\n",
    "\n",
    "    def forward(self, x):\n",
    "        hidden_output = self.tanh(self.hidden(x))\n",
    "        output = self.output(hidden_output)\n",
    "        return output\n",
    "\n",
    "    def train_self(self, x_train, y_train, learning_rate=0.001, momentum=0.9, weight_decay=0.001, num_epochs=250, batch_size=32):\n",
    "        optimizer = optim.SGD(self.parameters(), lr=learning_rate, momentum=momentum, weight_decay=weight_decay)\n",
    "        loss_values = np.zeros((3, num_epochs))\n",
    "        criterion = nn.MSELoss()\n",
    "\n",
    "        for epoch in range(num_epochs):\n",
    "            self.train()\n",
    "            indices = torch.randperm(x_train.shape[0])\n",
    "            x_it = x_train[indices]\n",
    "            y_it = y_train[indices]\n",
    "\n",
    "            for i in range(0, x_it.shape[0], batch_size):\n",
    "                inputs = x_it[i:i + batch_size]\n",
    "                targets = y_it[i:i + batch_size]\n",
    "\n",
    "                optimizer.zero_grad()\n",
    "\n",
    "                output = self(inputs)\n",
    "                loss = criterion(output, targets)\n",
    "\n",
    "                loss.backward()\n",
    "                optimizer.step()\n",
    "\n",
    "            self.eval()\n",
    "            y_pred = self(x_train)\n",
    "            mse = criterion(y_pred, y_train)\n",
    "            rmse = np.sqrt(float(mse))\n",
    "            \n",
    "\n",
    "            MAE_fn = nn.L1Loss()\n",
    "            mae = MAE_fn(y_pred, y_train)\n",
    "\n",
    "            mare = mean_absolute_percentage_error(y_pred.detach().numpy(), y_train.detach().numpy())\n",
    "            mare /= 100\n",
    "\n",
    "            loss_values[0, epoch] = rmse\n",
    "            loss_values[1, epoch] = mae\n",
    "            loss_values[2, epoch] = mare\n",
    "\n",
    "        return loss_values\n",
    "        "
   ]
  },
  {
   "cell_type": "code",
   "execution_count": 448,
   "metadata": {},
   "outputs": [],
   "source": [
    "class ReLUClassificationNeuralNetwork(nn.Module):\n",
    "    def __init__(self, input_size, hidden_size, output_size):\n",
    "        super(ReLUClassificationNeuralNetwork, self).__init__()\n",
    "        self.hidden = nn.Linear(input_size, hidden_size)\n",
    "        self.relu = nn.ReLU()\n",
    "        self.output = nn.Linear(hidden_size, output_size)\n",
    "\n",
    "    def forward(self, x):\n",
    "        hidden_output = self.relu(self.hidden(x))\n",
    "        output = self.output(hidden_output)\n",
    "        return output\n",
    "    \n",
    "    def train_self(self, x_train, y_train, learning_rate=0.001, momentum=0.9, weight_decay=0.001, num_epochs =250, batch_size = 32):\n",
    "        optimizer = optim.SGD(self.parameters(), lr=learning_rate, momentum=momentum, weight_decay=weight_decay)\n",
    "        loss_values = np.zeros((2, num_epochs))\n",
    "        criterion = nn.CrossEntropyLoss()\n",
    "\n",
    "        for epoch in range(num_epochs):\n",
    "            self.train()\n",
    "            indices = torch.randperm(x_train.shape[0])\n",
    "            x_it = x_train[indices]\n",
    "            y_it = y_train[indices]\n",
    "\n",
    "            for i in range (0, x_it.shape[0], batch_size):\n",
    "                inputs = x_it[i:i+batch_size]\n",
    "                targets = y_it[i:i+batch_size]\n",
    "\n",
    "                optimizer.zero_grad()\n",
    "\n",
    "                output = self(inputs)\n",
    "                loss = criterion(output, targets)\n",
    "\n",
    "                loss.backward()\n",
    "                optimizer.step()\n",
    "\n",
    "            self.eval()\n",
    "            y_pred = self(x_train)\n",
    "            ce = float(criterion(y_pred, y_train))\n",
    "            acc = (torch.argmax(y_pred, 1) == torch.argmax(y_train, 1)).float().mean()\n",
    "\n",
    "            loss_values[0, epoch] = ce\n",
    "            loss_values[1, epoch] = acc\n",
    "        \n",
    "        return loss_values"
   ]
  },
  {
   "attachments": {},
   "cell_type": "markdown",
   "metadata": {},
   "source": [
    "## Random Search"
   ]
  },
  {
   "cell_type": "code",
   "execution_count": 449,
   "metadata": {},
   "outputs": [],
   "source": [
    "def random_search_tanh(x, y, x_validation, y_validation, num_models = 10, num_epochs = 250):\n",
    "    best_loss = float('inf')\n",
    "    best_hyperparameters = None\n",
    "    input_size = 8\n",
    "    output_size = 1\n",
    "    model_info = []\n",
    "    criterion = nn.MSELoss()\n",
    "\n",
    "    for i in range(num_models):\n",
    "        # Generate random hyperparameters\n",
    "        hidden_size = random.choice([16, 32, 64, 128])\n",
    "        learning_rate = random.uniform(0.00001, 0.01)\n",
    "        weight_decay = random.uniform(0.00001, 0.01)\n",
    "        momentum = random.uniform(0.5, 0.99)\n",
    "        batch_size = random.choice([16, 32, 64, 128])\n",
    "\n",
    "        hyperparameters = (hidden_size, learning_rate, weight_decay, momentum, batch_size)\n",
    "\n",
    "        # Create the neural network with the random hyperparameters\n",
    "        network = TanhRegressionNeuralNetwork(input_size, hidden_size, output_size)\n",
    "\n",
    "\n",
    "        # Train the network and get the loss values\n",
    "        loss_values = network.train_self(x, \n",
    "                                         y, \n",
    "                                         learning_rate = learning_rate, \n",
    "                                         weight_decay = weight_decay,\n",
    "                                         momentum = momentum, \n",
    "                                         num_epochs = num_epochs, \n",
    "                                         batch_size = batch_size)\n",
    "\n",
    "        regressor.eval()\n",
    "        # Get the final loss value\n",
    "        loss = criterion(network(x_validation), y_validation).item()\n",
    "        rmse_loss = np.sqrt(loss)\n",
    "        model_info.append([rmse_loss, hyperparameters])\n",
    "\n",
    "        # Check if the current hyperparameters are the best\n",
    "        if loss < best_loss:\n",
    "            best_loss = rmse_loss\n",
    "            best_hyperparameters = hyperparameters\n",
    "            best_loss_values = loss_values\n",
    "        \n",
    "        print(\"-------------- Modelo\", i + 1, \"--------------\")\n",
    "        print(\"RMSE =\", rmse_loss)\n",
    "        print(\"Hidden layer neurons =\", hidden_size)\n",
    "        print(\"Learning rate =\", learning_rate)\n",
    "        print(\"Weight Decay =\", weight_decay)\n",
    "        print(\"Momentum =\", momentum)\n",
    "        print(\"Batch size =\", batch_size)\n",
    "        print(\"\")\n",
    "    \n",
    "    return best_hyperparameters, best_loss, model_info, best_loss_values"
   ]
  },
  {
   "cell_type": "code",
   "execution_count": 450,
   "metadata": {},
   "outputs": [],
   "source": [
    "def random_search_relu(x, y, x_validation, y_validation, num_models = 10, num_epochs = 250):\n",
    "    best_loss = float('inf')\n",
    "    best_acc = - float('inf')\n",
    "    best_hyperparameters = None\n",
    "    input_size = x.shape[1]\n",
    "    output_size = 11\n",
    "    model_info = []\n",
    "    criterion = nn.CrossEntropyLoss()\n",
    "\n",
    "    for i in range(num_models):\n",
    "        # Generate random hyperparameters\n",
    "        hidden_size = random.choice([16, 32, 64, 128])\n",
    "        learning_rate = random.uniform(0.00001, 0.01)\n",
    "        weight_decay = random.uniform(0.00001, 0.01)\n",
    "        momentum = random.uniform(0.5, 0.99)\n",
    "        batch_size = random.choice([16, 32, 64, 128])\n",
    "\n",
    "        hyperparameters = (hidden_size, \n",
    "                           learning_rate, \n",
    "                           weight_decay, \n",
    "                           momentum, \n",
    "                           batch_size)\n",
    "\n",
    "        # Create the neural network with the random hyperparameters\n",
    "        network = ReLUClassificationNeuralNetwork(input_size, hidden_size, output_size)\n",
    "\n",
    "\n",
    "        # Train the network and get the loss values\n",
    "        loss_values = network.train_self(x, \n",
    "                                         y, \n",
    "                                         learning_rate = learning_rate, \n",
    "                                         weight_decay = weight_decay,\n",
    "                                         momentum = momentum, \n",
    "                                         num_epochs = num_epochs, \n",
    "                                         batch_size = batch_size)\n",
    "\n",
    "        regressor.eval()\n",
    "        # Get the final loss value\n",
    "        y_pred = network(x_validation)\n",
    "        ce_loss = criterion(y_pred, y_validation).item()\n",
    "        acc = (torch.argmax(y_pred, 1) == torch.argmax(y_validation, 1)).float().mean().item()\n",
    "        model_info.append([acc, hyperparameters])\n",
    "\n",
    "        # Check if the current hyperparameters are the best\n",
    "        if acc > best_acc:\n",
    "            best_loss = ce_loss\n",
    "            best_acc = acc\n",
    "            best_hyperparameters = hyperparameters\n",
    "            best_loss_values = loss_values\n",
    "        \n",
    "        print(\"-------------- Modelo\", i + 1, \"--------------\")\n",
    "        print(\"Cross Entropy =\", ce_loss)\n",
    "        print(\"Accuracy =\", acc)\n",
    "        print(\"Hidden layer neurons =\", hidden_size)\n",
    "        print(\"Learning rate =\", learning_rate)\n",
    "        print(\"Weight Decay =\", weight_decay)\n",
    "        print(\"Momentum =\", momentum)\n",
    "        print(\"Batch size =\", batch_size)\n",
    "        print(\"\")\n",
    "    \n",
    "    return best_hyperparameters, best_acc, best_loss, model_info, best_loss_values"
   ]
  },
  {
   "attachments": {},
   "cell_type": "markdown",
   "metadata": {},
   "source": [
    "## Questão 1"
   ]
  },
  {
   "attachments": {},
   "cell_type": "markdown",
   "metadata": {},
   "source": [
    "### Preparação dos dados"
   ]
  },
  {
   "cell_type": "code",
   "execution_count": 468,
   "metadata": {},
   "outputs": [],
   "source": [
    "data = np.genfromtxt(\"concrete.csv\", delimiter=',')\n",
    "\n",
    "np.random.shuffle(data)\n",
    "# normalized_data, mean, sig = zScoreScale(data)\n",
    "normalized_data, min_value, max_value = minMaxScale(data)\n",
    "\n",
    "# Índices\n",
    "\n",
    "train_index = (int) (np.floor(data.shape[0] * 0.6))\n",
    "validation_index = (int) (np.floor(data.shape[0] * 0.8))\n",
    "\n",
    "# Conjuntos de treino\n",
    "train_x = torch.Tensor(data[:train_index, :8]).float()\n",
    "train_y = torch.tensor(data[:train_index, 8].reshape(-1,1)).float()\n",
    "\n",
    "normalized_train_x = torch.Tensor(normalized_data[:train_index, :8]).float()\n",
    "normalized_train_y = torch.tensor(normalized_data[:train_index, 8].reshape(-1,1)).float()\n",
    "\n",
    "# Conjuntos de validação\n",
    "validation_x = torch.Tensor(data[train_index:validation_index, :8]).float()\n",
    "validation_y = torch.Tensor(data[train_index:validation_index, 8].reshape(-1,1)).float()\n",
    "\n",
    "normalized_validation_x = torch.Tensor(normalized_data[train_index:validation_index, :8]).float()\n",
    "normalized_validation_y = torch.Tensor(normalized_data[train_index:validation_index, 8].reshape(-1,1)).float()\n",
    "\n",
    "# Conjuntos de teste\n",
    "test_x = torch.Tensor(data[validation_index:, :8]).float()\n",
    "test_y = torch.Tensor(data[validation_index:, 8].reshape(-1,1)).float()\n",
    "\n",
    "normalized_test_x = torch.Tensor(normalized_data[validation_index:, :8]).float()\n",
    "normalized_test_y = torch.Tensor(normalized_data[validation_index:, 8].reshape(-1,1)).float()\n",
    "\n",
    "# Conjuntos de treino finais (treino + validação)\n",
    "final_train_x = torch.Tensor(data[:validation_index, :8]).float()\n",
    "final_train_y = torch.Tensor(data[:validation_index, 8]).float()\n",
    "\n",
    "normalized_final_train_x = torch.Tensor(normalized_data[:validation_index, :8]).float()\n",
    "normalized_final_train_y = torch.Tensor(normalized_data[:validation_index, 8].reshape(-1,1)).float()"
   ]
  },
  {
   "attachments": {},
   "cell_type": "markdown",
   "metadata": {},
   "source": [
    "### Encontrar hiperparâmetros via Random Search"
   ]
  },
  {
   "cell_type": "code",
   "execution_count": 469,
   "metadata": {},
   "outputs": [
    {
     "name": "stdout",
     "output_type": "stream",
     "text": [
      "-------------- Modelo 1 --------------\n",
      "RMSE = 0.013300931486991163\n",
      "Hidden layer neurons = 64\n",
      "Learning rate = 0.000938225544312781\n",
      "Weight Decay = 0.006378799791312184\n",
      "Momentum = 0.9286385095627672\n",
      "Batch size = 32\n",
      "\n",
      "-------------- Modelo 2 --------------\n",
      "RMSE = 0.012650784820843718\n",
      "Hidden layer neurons = 32\n",
      "Learning rate = 0.0036258005831645342\n",
      "Weight Decay = 0.004494809461551967\n",
      "Momentum = 0.7422148298417575\n",
      "Batch size = 16\n",
      "\n",
      "-------------- Modelo 3 --------------\n",
      "RMSE = 0.014664496123127226\n",
      "Hidden layer neurons = 32\n",
      "Learning rate = 0.004966378731776592\n",
      "Weight Decay = 0.006952886006771291\n",
      "Momentum = 0.911401384546418\n",
      "Batch size = 16\n",
      "\n",
      "-------------- Modelo 4 --------------\n",
      "RMSE = 0.014779238544126935\n",
      "Hidden layer neurons = 64\n",
      "Learning rate = 0.0038598459650420825\n",
      "Weight Decay = 0.00850453375270956\n",
      "Momentum = 0.9696642943503395\n",
      "Batch size = 16\n",
      "\n",
      "-------------- Modelo 5 --------------\n",
      "RMSE = 0.018313798615683236\n",
      "Hidden layer neurons = 16\n",
      "Learning rate = 0.00011093536052936323\n",
      "Weight Decay = 0.0051542579115120045\n",
      "Momentum = 0.8403716374762527\n",
      "Batch size = 32\n",
      "\n",
      "-------------- Modelo 6 --------------\n",
      "RMSE = 0.0144353920899641\n",
      "Hidden layer neurons = 16\n",
      "Learning rate = 0.0016748861299425914\n",
      "Weight Decay = 0.0047165063540946395\n",
      "Momentum = 0.707499829017444\n",
      "Batch size = 16\n",
      "\n",
      "-------------- Modelo 7 --------------\n",
      "RMSE = 0.014520065760055437\n",
      "Hidden layer neurons = 16\n",
      "Learning rate = 0.0020172373379636764\n",
      "Weight Decay = 0.0023585422163528687\n",
      "Momentum = 0.843913132212758\n",
      "Batch size = 16\n",
      "\n",
      "-------------- Modelo 8 --------------\n",
      "RMSE = 0.013488716129697842\n",
      "Hidden layer neurons = 32\n",
      "Learning rate = 0.003892526308327972\n",
      "Weight Decay = 0.005260840252567259\n",
      "Momentum = 0.8669623019047652\n",
      "Batch size = 32\n",
      "\n",
      "-------------- Modelo 9 --------------\n",
      "RMSE = 0.01479026855808307\n",
      "Hidden layer neurons = 32\n",
      "Learning rate = 0.003108880957165155\n",
      "Weight Decay = 0.0010527885483285328\n",
      "Momentum = 0.7145298502883334\n",
      "Batch size = 32\n",
      "\n",
      "-------------- Modelo 10 --------------\n",
      "RMSE = 0.011661033507514398\n",
      "Hidden layer neurons = 128\n",
      "Learning rate = 0.002860778684338949\n",
      "Weight Decay = 0.0033909070986766574\n",
      "Momentum = 0.8591004108038534\n",
      "Batch size = 64\n",
      "\n"
     ]
    }
   ],
   "source": [
    "hyperparameters, loss, model_info, training_loss = random_search_tanh(normalized_train_x, \n",
    "                                                                         normalized_train_y, \n",
    "                                                                         normalized_validation_x, \n",
    "                                                                         normalized_validation_y,\n",
    "                                                                         num_models = 10,\n",
    "                                                                         num_epochs = 200)"
   ]
  },
  {
   "cell_type": "code",
   "execution_count": 470,
   "metadata": {},
   "outputs": [
    {
     "name": "stdout",
     "output_type": "stream",
     "text": [
      "CONSULTE A TABELA NA CÉLULA ACIMA PARA VER OS HIPERPARÂMETROS DE CADA MODELO\n"
     ]
    },
    {
     "data": {
      "image/png": "[encoded data removed]",
      "text/plain": [
       "<Figure size 432x288 with 1 Axes>"
      ]
     },
     "metadata": {
      "needs_background": "light"
     },
     "output_type": "display_data"
    }
   ],
   "source": [
    "print('CONSULTE A TABELA NA CÉLULA ACIMA PARA VER OS HIPERPARÂMETROS DE CADA MODELO')\n",
    "labels = np.arange(len(model_info)) + 1\n",
    "values = []\n",
    "for (loss, hyper) in model_info:\n",
    "    values.append(loss)\n",
    "\n",
    "plt.title('RMSE na validação dos modelos gerados pelo Random search\\n')\n",
    "plt.bar(labels, values, align='center')\n",
    "plt.show()"
   ]
  },
  {
   "cell_type": "code",
   "execution_count": 471,
   "metadata": {},
   "outputs": [
    {
     "name": "stdout",
     "output_type": "stream",
     "text": [
      "Melhores hiperparâmetros: \n",
      "Hidden layer neurons = 128\n",
      "Learning rate = 0.002860778684338949\n",
      "Weight Decay = 0.0033909070986766574\n",
      "Momentum = 0.8591004108038534\n",
      "Batch size = 64\n",
      "\n"
     ]
    }
   ],
   "source": [
    "print('Melhores hiperparâmetros: ')\n",
    "print(\"Hidden layer neurons =\", hyperparameters[0])\n",
    "print(\"Learning rate =\", hyperparameters[1])\n",
    "print(\"Weight Decay =\", hyperparameters[2])\n",
    "print(\"Momentum =\", hyperparameters[3])\n",
    "print(\"Batch size =\", hyperparameters[4])\n",
    "print(\"\")"
   ]
  },
  {
   "attachments": {},
   "cell_type": "markdown",
   "metadata": {},
   "source": [
    "### Treinar Rede neural final com hiperparâmetros obtidos"
   ]
  },
  {
   "cell_type": "code",
   "execution_count": 475,
   "metadata": {},
   "outputs": [
    {
     "data": {
      "image/png": "[encoded data removed]",
      "text/plain": [
       "<Figure size 432x288 with 1 Axes>"
      ]
     },
     "metadata": {
      "needs_background": "light"
     },
     "output_type": "display_data"
    },
    {
     "data": {
      "image/png": "[encoded data removed]",
      "text/plain": [
       "<Figure size 432x288 with 1 Axes>"
      ]
     },
     "metadata": {
      "needs_background": "light"
     },
     "output_type": "display_data"
    },
    {
     "data": {
      "image/png": "[encoded data removed]",
      "text/plain": [
       "<Figure size 432x288 with 1 Axes>"
      ]
     },
     "metadata": {
      "needs_background": "light"
     },
     "output_type": "display_data"
    },
    {
     "name": "stdout",
     "output_type": "stream",
     "text": [
      "RMSE no teste: 0.011555214207228895\n",
      "MAE no teste: 0.009215211495757103\n",
      "MARE no teste: 0.003105211853981018\n"
     ]
    }
   ],
   "source": [
    "regressor = TanhRegressionNeuralNetwork(8, hyperparameters[0], 1)\n",
    "\n",
    "test_loss = regressor.train_self(normalized_final_train_x, \n",
    "                                 normalized_final_train_y, \n",
    "                                 num_epochs=200, \n",
    "                                 learning_rate=hyperparameters[1], \n",
    "                                 weight_decay=hyperparameters[2], \n",
    "                                 momentum=hyperparameters[3], \n",
    "                                 batch_size=hyperparameters[4])\n",
    "\n",
    "# Calcula os erros no teste\n",
    "regressor.eval()\n",
    "y_pred = regressor(normalized_test_x)\n",
    "lossFunction = nn.MSELoss()\n",
    "\n",
    "test_rmse = np.sqrt(lossFunction(y_pred, normalized_test_y).item())\n",
    "\n",
    "lossFunction = nn.L1Loss()\n",
    "\n",
    "test_mae = lossFunction(y_pred, normalized_test_y).item()\n",
    "\n",
    "test_mare = mean_absolute_percentage_error(y_pred.detach().numpy(), normalized_test_y.detach().numpy())\n",
    "test_mare /= 100\n",
    "\n",
    "\n",
    "\n",
    "# Plota os erros no treino e validação\n",
    "plt.title(\"RMSE por iteração no treino e na validação da Rede Neural\")\n",
    "plt.plot(np.arange(training_loss.shape[1]), training_loss[0], color='red', label='Treino')\n",
    "plt.plot(np.arange(test_loss.shape[1]), test_loss[0], label='Validação')\n",
    "plt.show()\n",
    "\n",
    "plt.title(\"MAE por iteração no treino e na validação da Rede Neural\")\n",
    "plt.plot(np.arange(training_loss.shape[1]), training_loss[1], color='red', label=\"Treino\")\n",
    "plt.plot(np.arange(test_loss.shape[1]), test_loss[1], label='Validação')\n",
    "plt.show()\n",
    "\n",
    "plt.title(\"MARE por iteração no treino e na validação da Rede Neural\")\n",
    "plt.plot(np.arange(training_loss.shape[1]), training_loss[2], color='red', label=\"Treino\")\n",
    "plt.plot(np.arange(test_loss.shape[1]), test_loss[2], label='Validação')\n",
    "plt.show()\n",
    "\n",
    "# Printa os erros no teste\n",
    "print(\"RMSE no teste:\", test_rmse)\n",
    "print(\"MAE no teste:\", test_mae)\n",
    "print(\"MARE no teste:\", test_mare)"
   ]
  },
  {
   "attachments": {},
   "cell_type": "markdown",
   "metadata": {},
   "source": [
    "## Questão 2"
   ]
  },
  {
   "attachments": {},
   "cell_type": "markdown",
   "metadata": {},
   "source": [
    "### Preparação dos dados"
   ]
  },
  {
   "cell_type": "code",
   "execution_count": 456,
   "metadata": {},
   "outputs": [
    {
     "name": "stderr",
     "output_type": "stream",
     "text": [
      "/tmp/ipykernel_2379/3034839501.py:18: UserWarning: To copy construct from a tensor, it is recommended to use sourceTensor.clone().detach() or sourceTensor.clone().detach().requires_grad_(True), rather than torch.tensor(sourceTensor).\n",
      "  train_y = torch.tensor(one_hot_y[:train_index, :])\n"
     ]
    }
   ],
   "source": [
    "data = np.genfromtxt(\"vowel.csv\", delimiter=',')\n",
    "np.random.shuffle(data)\n",
    "\n",
    "x = torch.Tensor(data[:, :10])\n",
    "y = torch.Tensor(data[:, 10].reshape(-1, 1))\n",
    "\n",
    "enc = OneHotEncoder(handle_unknown='ignore')\n",
    "enc.fit(y)\n",
    "one_hot_y = torch.tensor(enc.transform(y).toarray())\n",
    "\n",
    "# Índices\n",
    "\n",
    "train_index = (int) (np.floor(data.shape[0] * 0.6))\n",
    "validation_index = (int) (np.floor(data.shape[0] * 0.8))\n",
    "\n",
    "# Conjuntos de treino\n",
    "train_x = torch.Tensor(x[:train_index, :10]).float()\n",
    "train_y = torch.tensor(one_hot_y[:train_index, :])\n",
    "\n",
    "# Conjuntos de validação\n",
    "validation_x = torch.Tensor(data[train_index:validation_index, :10]).float()\n",
    "validation_y = torch.Tensor(one_hot_y[train_index:validation_index, :])\n",
    "\n",
    "# Conjuntos de teste\n",
    "test_x = torch.Tensor(data[validation_index:, :10]).float()\n",
    "test_y = torch.Tensor(one_hot_y[validation_index:, :]).long()\n",
    "\n",
    "# Conjuntos de treino finais (treino + validação)\n",
    "final_train_x = torch.Tensor(data[:validation_index, :10]).float()\n",
    "final_train_y = torch.Tensor(one_hot_y[:validation_index, :])"
   ]
  },
  {
   "attachments": {},
   "cell_type": "markdown",
   "metadata": {},
   "source": [
    "### Encontrar melhores hiperparâmetros via Random Search"
   ]
  },
  {
   "cell_type": "code",
   "execution_count": 457,
   "metadata": {},
   "outputs": [
    {
     "name": "stdout",
     "output_type": "stream",
     "text": [
      "-------------- Modelo 1 --------------\n",
      "Cross Entropy = 0.8787052718136986\n",
      "Accuracy = 0.6818181872367859\n",
      "Hidden layer neurons = 128\n",
      "Learning rate = 0.002163771723743493\n",
      "Weight Decay = 0.0005500960337617486\n",
      "Momentum = 0.7251269494769522\n",
      "Batch size = 16\n",
      "\n",
      "-------------- Modelo 2 --------------\n",
      "Cross Entropy = 1.212563724605122\n",
      "Accuracy = 0.560606062412262\n",
      "Hidden layer neurons = 32\n",
      "Learning rate = 0.0011379022421898679\n",
      "Weight Decay = 0.005993393100605551\n",
      "Momentum = 0.8390845542208898\n",
      "Batch size = 16\n",
      "\n",
      "-------------- Modelo 3 --------------\n",
      "Cross Entropy = 1.301342811811753\n",
      "Accuracy = 0.5252525210380554\n",
      "Hidden layer neurons = 16\n",
      "Learning rate = 0.007074248845939537\n",
      "Weight Decay = 0.009002493064689468\n",
      "Momentum = 0.570263978413778\n",
      "Batch size = 32\n",
      "\n",
      "-------------- Modelo 4 --------------\n",
      "Cross Entropy = 1.705599091796562\n",
      "Accuracy = 0.3333333432674408\n",
      "Hidden layer neurons = 16\n",
      "Learning rate = 0.0017997403414971062\n",
      "Weight Decay = 0.004160115096024536\n",
      "Momentum = 0.7893432431557283\n",
      "Batch size = 64\n",
      "\n",
      "-------------- Modelo 5 --------------\n",
      "Cross Entropy = 0.8360528206885464\n",
      "Accuracy = 0.7424242496490479\n",
      "Hidden layer neurons = 128\n",
      "Learning rate = 0.005275438619338811\n",
      "Weight Decay = 0.0024316061563461016\n",
      "Momentum = 0.7391851798834903\n",
      "Batch size = 32\n",
      "\n",
      "-------------- Modelo 6 --------------\n",
      "Cross Entropy = 0.7794641006451025\n",
      "Accuracy = 0.7575757503509521\n",
      "Hidden layer neurons = 32\n",
      "Learning rate = 0.0034334178357965602\n",
      "Weight Decay = 0.00538854185922108\n",
      "Momentum = 0.8459175839228896\n",
      "Batch size = 16\n",
      "\n",
      "-------------- Modelo 7 --------------\n",
      "Cross Entropy = 1.3853242232116183\n",
      "Accuracy = 0.5\n",
      "Hidden layer neurons = 16\n",
      "Learning rate = 0.004291790173518709\n",
      "Weight Decay = 0.006363738464752978\n",
      "Momentum = 0.5802697714366996\n",
      "Batch size = 32\n",
      "\n",
      "-------------- Modelo 8 --------------\n",
      "Cross Entropy = 1.3992932180525979\n",
      "Accuracy = 0.4898989796638489\n",
      "Hidden layer neurons = 128\n",
      "Learning rate = 0.0035181829233756003\n",
      "Weight Decay = 7.644631463805139e-05\n",
      "Momentum = 0.5798593307616684\n",
      "Batch size = 64\n",
      "\n",
      "-------------- Modelo 9 --------------\n",
      "Cross Entropy = 1.2036509970297116\n",
      "Accuracy = 0.5353535413742065\n",
      "Hidden layer neurons = 128\n",
      "Learning rate = 0.007474760809950337\n",
      "Weight Decay = 0.0032586788448497037\n",
      "Momentum = 0.5289443697270095\n",
      "Batch size = 64\n",
      "\n",
      "-------------- Modelo 10 --------------\n",
      "Cross Entropy = 1.5441289906850968\n",
      "Accuracy = 0.43939393758773804\n",
      "Hidden layer neurons = 16\n",
      "Learning rate = 0.0069293555891334815\n",
      "Weight Decay = 0.007761398716351228\n",
      "Momentum = 0.7481281610541771\n",
      "Batch size = 128\n",
      "\n"
     ]
    }
   ],
   "source": [
    "hyperparameters, acc, loss, model_info, training_loss = random_search_relu(train_x, \n",
    "                                                                           train_y, \n",
    "                                                                           validation_x, \n",
    "                                                                           validation_y,\n",
    "                                                                           num_models = 10,\n",
    "                                                                           num_epochs = 250)"
   ]
  },
  {
   "cell_type": "code",
   "execution_count": 458,
   "metadata": {},
   "outputs": [
    {
     "name": "stdout",
     "output_type": "stream",
     "text": [
      "CONSULTE A TABELA NA CÉLULA ACIMA PARA VER OS HIPERPARÂMETROS DE CADA MODELO\n"
     ]
    },
    {
     "data": {
      "image/png": "[encoded data removed]",
      "text/plain": [
       "<Figure size 432x288 with 1 Axes>"
      ]
     },
     "metadata": {
      "needs_background": "light"
     },
     "output_type": "display_data"
    }
   ],
   "source": [
    "print('CONSULTE A TABELA NA CÉLULA ACIMA PARA VER OS HIPERPARÂMETROS DE CADA MODELO')\n",
    "labels = np.arange(len(model_info)) + 1\n",
    "values = []\n",
    "for (acc, hyper) in model_info:\n",
    "    values.append(acc)\n",
    "\n",
    "plt.title('Acurácias na validação dos modelos gerados pelo Random search\\n')\n",
    "plt.bar(labels, values, align='center')\n",
    "plt.show()"
   ]
  },
  {
   "cell_type": "code",
   "execution_count": 459,
   "metadata": {},
   "outputs": [
    {
     "name": "stdout",
     "output_type": "stream",
     "text": [
      "Melhores hiperparâmetros: \n",
      "Hidden layer neurons = 32\n",
      "Learning rate = 0.0034334178357965602\n",
      "Weight Decay = 0.00538854185922108\n",
      "Momentum = 0.8459175839228896\n",
      "Batch size = 16\n",
      "\n"
     ]
    }
   ],
   "source": [
    "print('Melhores hiperparâmetros: ')\n",
    "print(\"Hidden layer neurons =\", hyperparameters[0])\n",
    "print(\"Learning rate =\", hyperparameters[1])\n",
    "print(\"Weight Decay =\", hyperparameters[2])\n",
    "print(\"Momentum =\", hyperparameters[3])\n",
    "print(\"Batch size =\", hyperparameters[4])\n",
    "print(\"\")"
   ]
  },
  {
   "attachments": {},
   "cell_type": "markdown",
   "metadata": {},
   "source": [
    "### Treinar rede neural final com os hiperparâmetros obtidos"
   ]
  },
  {
   "cell_type": "code",
   "execution_count": 460,
   "metadata": {},
   "outputs": [
    {
     "data": {
      "image/png": "[encoded data removed]",
      "text/plain": [
       "<Figure size 432x288 with 1 Axes>"
      ]
     },
     "metadata": {
      "needs_background": "light"
     },
     "output_type": "display_data"
    },
    {
     "data": {
      "image/png": "[encoded data removed]",
      "text/plain": [
       "<Figure size 432x288 with 1 Axes>"
      ]
     },
     "metadata": {
      "needs_background": "light"
     },
     "output_type": "display_data"
    }
   ],
   "source": [
    "classificador = ReLUClassificationNeuralNetwork(x.shape[1], 16, 11)\n",
    "\n",
    "loss = classificador.train_self(final_train_x, \n",
    "                                final_train_y, \n",
    "                                num_epochs=250, \n",
    "                                learning_rate=hyperparameters[1], \n",
    "                                weight_decay=hyperparameters[2], \n",
    "                                momentum=hyperparameters[3], \n",
    "                                batch_size=hyperparameters[4])\n",
    "\n",
    "# Calcula a cross entropia e a acurácia no teste\n",
    "classificador.eval()\n",
    "ce_fn = nn.CrossEntropyLoss()\n",
    "y_pred = clasisficador(test_x)\n",
    "\n",
    "ce_final = float(ce_fn(y_pred, y_train))\n",
    "acc_final = (torch.argmax(y_pred, 1) == torch.argmax(y_train, 1)).float().mean()\n",
    "\n",
    "# Plota os gráficos da cross entropia e acurácia no treino e validação\n",
    "plt.title(\"CEL por iteração na validação da Rede Neural\")\n",
    "plt.plot(np.arange(training_loss.shape[1]), training_loss[0], color='red', label=\"Treino\")\n",
    "plt.plot(np.arange(loss.shape[1]), loss[0], label=\"Validação\")\n",
    "plt.show()\n",
    "\n",
    "plt.title(\"Acurácia por iteração na validação da Rede Neural\")\n",
    "plt.plot(np.arange(training_loss.shape[1]), training_loss[1], color='red', label=\"Treino\")\n",
    "plt.plot(np.arange(loss.shape[1]), loss[1], label=\"Validação\")\n",
    "plt.show()\n",
    "\n",
    "# Printa a cross entropia e a acurácia no teste\n",
    "print(\"Cross entropy no teste:\", ce_final)\n",
    "print(\"Acurácia no teste:\", acc_final)"
   ]
  }
 ],
 "metadata": {
  "kernelspec": {
   "display_name": "Python 3",
   "language": "python",
   "name": "python3"
  },
  "language_info": {
   "codemirror_mode": {
    "name": "ipython",
    "version": 3
   },
   "file_extension": ".py",
   "mimetype": "text/x-python",
   "name": "python",
   "nbconvert_exporter": "python",
   "pygments_lexer": "ipython3",
   "version": "3.10.6"
  },
  "orig_nbformat": 4
 },
 "nbformat": 4,
 "nbformat_minor": 2
}
