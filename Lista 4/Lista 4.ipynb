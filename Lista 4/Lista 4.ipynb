{
 "cells": [
  {
   "cell_type": "code",
   "execution_count": 108,
   "metadata": {},
   "outputs": [],
   "source": [
    "import torch\n",
    "import torch.nn as nn\n",
    "import torch.optim as optim\n",
    "import numpy as np\n",
    "import matplotlib.pyplot as plt"
   ]
  },
  {
   "attachments": {},
   "cell_type": "markdown",
   "metadata": {},
   "source": [
    "## Redes neurais"
   ]
  },
  {
   "cell_type": "code",
   "execution_count": 109,
   "metadata": {},
   "outputs": [],
   "source": [
    "class TanhRegressionNeuralNetwork(nn.Module):\n",
    "    def __init__(self, input_size, hidden_size, output_size):\n",
    "        super(TanhRegressionNeuralNetwork, self).__init__()\n",
    "        self.hidden = nn.Linear(input_size, hidden_size)\n",
    "        self.tanh = nn.Tanh()\n",
    "        self.output = nn.Linear(hidden_size, output_size)\n",
    "\n",
    "    def forward(self, x):\n",
    "        x = self.hidden(x)\n",
    "        x = self.tanh(x)\n",
    "        x = self.output(x)\n",
    "        return x"
   ]
  },
  {
   "cell_type": "code",
   "execution_count": 110,
   "metadata": {},
   "outputs": [],
   "source": [
    "class ReLUClassificationNeuralNetwork():\n",
    "    def __init__(self, input_size, hidden_size, output_size, dim):\n",
    "        super(RegressionNeuralNetwork, self).__init__()\n",
    "        self.hidden = nn.Linear(input_size, hidden_size)\n",
    "        self.relu = nn.ReLU()\n",
    "        self.output = nn.Linear(hidden_size, output_size)\n",
    "        self.softmax = nn.Softmax(dim = dim)\n",
    "\n",
    "    def forward(self, x):\n",
    "        x = self.hidden(x)\n",
    "        x = self.relu(x)\n",
    "        x = self.output(x)\n",
    "        x = self.softmax(x)\n",
    "        return x"
   ]
  },
  {
   "attachments": {},
   "cell_type": "markdown",
   "metadata": {},
   "source": [
    "## Funções de treino"
   ]
  },
  {
   "cell_type": "code",
   "execution_count": 111,
   "metadata": {},
   "outputs": [],
   "source": [
    "def trainRegressionNetwork(network, x_train, y_train, learning_rate = 0.001, momentum = 0.9, num_epochs = 250, batch_size = 32):\n",
    "\n",
    "    optimizer = optim.SGD(network.parameters(), lr=learning_rate, momentum=momentum)\n",
    "    lossValues = np.zeros(num_epochs)\n",
    "    lossFunction = nn.MSELoss()\n",
    "\n",
    "    for epoch in range(num_epochs):\n",
    "\n",
    "        indices = torch.randperm(x.shape[0])\n",
    "        x_it = x_train[indices]\n",
    "        y_it = y_train[indices]\n",
    "\n",
    "        for i in range (0, x_it.shape[0], batch_size):\n",
    "            inputs = x_it[i:i+batch_size]\n",
    "            targets = y_it[i:i+batch_size]\n",
    "\n",
    "            optimizer.zero_grad()\n",
    "\n",
    "            output = network(inputs)\n",
    "            loss = lossFunction(output, targets)\n",
    "\n",
    "            loss.backward()\n",
    "            optimizer.step()\n",
    "\n",
    "        lossValues[epoch] = loss.item()\n",
    "    \n",
    "    return lossValues"
   ]
  },
  {
   "cell_type": "code",
   "execution_count": 112,
   "metadata": {},
   "outputs": [],
   "source": [
    "def trainClassificationNetwork(network, learning_rate, x_train, y_train, momentum = 0.9, num_epochs = 250, batch_size = 32):\n",
    "\n",
    "    optimizer = optim.SGD(model.parameters(), lr=learning_rate, momentum=momentum)\n",
    "    lossValues = np.zeros(num_epochs)\n",
    "    lossFunction = nn.CrossEntropyLoss()\n",
    "\n",
    "    for epoch in range(num_epochs):\n",
    "\n",
    "        indices = torch.randperm(x.shape[0])\n",
    "        x_it = x_train[indices]\n",
    "        y_it = y_train[indices]\n",
    "\n",
    "        for i in range (0, x_it.shape[0], batch_size):\n",
    "            inputs = x_it[i:i+batch_size]\n",
    "            targets = y_it[i:i+batch_size]\n",
    "\n",
    "            optimizer.zero_grad()\n",
    "\n",
    "            output = network(inputs)\n",
    "            loss = lossFunction(output, targets)\n",
    "\n",
    "            loss.backward()\n",
    "            optimizer.step()\n",
    "\n",
    "        lossValues[epoch] = loss.item()\n",
    "    \n",
    "    return lossValues"
   ]
  },
  {
   "cell_type": "code",
   "execution_count": 113,
   "metadata": {},
   "outputs": [
    {
     "data": {
      "image/png": "[encoded data removed]",
      "text/plain": [
       "<Figure size 432x288 with 1 Axes>"
      ]
     },
     "metadata": {
      "needs_background": "light"
     },
     "output_type": "display_data"
    }
   ],
   "source": [
    "data = np.genfromtxt(\"vowel.csv\", delimiter=',')\n",
    "\n",
    "x = torch.Tensor(data[:, :10])\n",
    "y = torch.Tensor(data[:, 10].reshape(-1, 1))\n",
    "\n",
    "regressor = TanhRegressionNeuralNetwork(x.shape[1], 15, 1)\n",
    "MSE = trainRegressionNetwork(regressor, x, y)\n",
    "\n",
    "plt.title(\"Rede Neural de regressão usando Tanh\")\n",
    "plt.plot(np.arange(MSE.size), MSE)\n",
    "plt.show()"
   ]
  }
 ],
 "metadata": {
  "kernelspec": {
   "display_name": "Python 3",
   "language": "python",
   "name": "python3"
  },
  "language_info": {
   "codemirror_mode": {
    "name": "ipython",
    "version": 3
   },
   "file_extension": ".py",
   "mimetype": "text/x-python",
   "name": "python",
   "nbconvert_exporter": "python",
   "pygments_lexer": "ipython3",
   "version": "3.10.6"
  },
  "orig_nbformat": 4
 },
 "nbformat": 4,
 "nbformat_minor": 2
}
