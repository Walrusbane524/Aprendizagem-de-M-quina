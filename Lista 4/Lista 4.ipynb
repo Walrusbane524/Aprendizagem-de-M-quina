{
 "cells": [
  {
   "cell_type": "code",
   "execution_count": 502,
   "metadata": {},
   "outputs": [],
   "source": [
    "import torch\n",
    "import torch.nn as nn\n",
    "import torch.optim as optim\n",
    "import numpy as np\n",
    "import matplotlib.pyplot as plt\n",
    "from sklearn.metrics import mean_absolute_percentage_error\n",
    "from sklearn.preprocessing import OneHotEncoder\n",
    "import random"
   ]
  },
  {
   "attachments": {},
   "cell_type": "markdown",
   "metadata": {},
   "source": [
    "## Z-score"
   ]
  },
  {
   "cell_type": "code",
   "execution_count": 503,
   "metadata": {},
   "outputs": [],
   "source": [
    "def zScoreScale(x):\n",
    "    data = x\n",
    "    mean = data.mean()\n",
    "    sig = np.sqrt(((data - mean)**2).sum())\n",
    "    scaled_x = np.zeros(x.shape)\n",
    "    \n",
    "    scaled_data = (data - mean)/sig\n",
    "    for i in range(x.shape[1]):\n",
    "        scaled_x[:,i] = scaled_data[:,i]\n",
    "    return scaled_x, mean, sig\n",
    "\n",
    "def zScoreDescale(x, mean, sig):\n",
    "    scaled_data = x\n",
    "    descaled_data = scaled_data * sig + mean\n",
    "    \n",
    "    descaled_x = np.zeros(x.shape)\n",
    "    for i in range(x.shape[1]):\n",
    "        descaled_x[:,i] = descaled_data[:,i]\n",
    "        \n",
    "    return descaled_x"
   ]
  },
  {
   "attachments": {},
   "cell_type": "markdown",
   "metadata": {},
   "source": [
    "## Min Max"
   ]
  },
  {
   "cell_type": "code",
   "execution_count": 504,
   "metadata": {},
   "outputs": [],
   "source": [
    "def minMaxScale(data):\n",
    "    min_value = np.min(data)\n",
    "    max_value = np.max(data)\n",
    "    normalized_data = (data - min_value)/(max_value - min_value)\n",
    "    \n",
    "    return normalized_data, min_value, max_value\n",
    "\n",
    "def minMaxDescale(normalized_data, min_value, max_value):\n",
    "    \n",
    "    denormalized_data = (normalized_data * (max_value - min_value)) + min_value\n",
    "    \n",
    "    return denormalized_data"
   ]
  },
  {
   "attachments": {},
   "cell_type": "markdown",
   "metadata": {},
   "source": [
    "## Redes neurais"
   ]
  },
  {
   "cell_type": "code",
   "execution_count": 505,
   "metadata": {},
   "outputs": [],
   "source": [
    "class TanhRegressionNeuralNetwork(nn.Module):\n",
    "    def __init__(self, input_size, hidden_size, output_size):\n",
    "        super(TanhRegressionNeuralNetwork, self).__init__()\n",
    "        self.hidden = nn.Linear(input_size, hidden_size)\n",
    "        self.tanh = nn.Tanh()\n",
    "        self.output = nn.Linear(hidden_size, output_size)\n",
    "\n",
    "    def forward(self, x):\n",
    "        hidden_output = self.tanh(self.hidden(x))\n",
    "        output = self.output(hidden_output)\n",
    "        return output\n",
    "\n",
    "    def train_self(self, x_train, y_train, learning_rate=0.001, momentum=0.9, weight_decay=0.001, num_epochs=250, batch_size=32):\n",
    "        optimizer = optim.SGD(self.parameters(), lr=learning_rate, momentum=momentum, weight_decay=weight_decay)\n",
    "        loss_values = np.zeros((3, num_epochs))\n",
    "        criterion = nn.MSELoss()\n",
    "\n",
    "        for epoch in range(num_epochs):\n",
    "            self.train()\n",
    "            indices = torch.randperm(x_train.shape[0])\n",
    "            x_it = x_train[indices]\n",
    "            y_it = y_train[indices]\n",
    "\n",
    "            for i in range(0, x_it.shape[0], batch_size):\n",
    "                inputs = x_it[i:i + batch_size]\n",
    "                targets = y_it[i:i + batch_size]\n",
    "\n",
    "                optimizer.zero_grad()\n",
    "\n",
    "                output = self(inputs)\n",
    "                loss = criterion(output, targets)\n",
    "\n",
    "                loss.backward()\n",
    "                optimizer.step()\n",
    "\n",
    "            self.eval()\n",
    "            y_pred = self(x_train)\n",
    "            mse = criterion(y_pred, y_train)\n",
    "            rmse = np.sqrt(float(mse))\n",
    "            \n",
    "\n",
    "            MAE_fn = nn.L1Loss()\n",
    "            mae = MAE_fn(y_pred, y_train)\n",
    "\n",
    "            mare = mean_absolute_percentage_error(y_pred.detach().numpy(), y_train.detach().numpy())\n",
    "            mare /= 100\n",
    "\n",
    "            loss_values[0, epoch] = rmse\n",
    "            loss_values[1, epoch] = mae\n",
    "            loss_values[2, epoch] = mare\n",
    "\n",
    "        return loss_values\n",
    "        "
   ]
  },
  {
   "cell_type": "code",
   "execution_count": 506,
   "metadata": {},
   "outputs": [],
   "source": [
    "class ReLUClassificationNeuralNetwork(nn.Module):\n",
    "    def __init__(self, input_size, hidden_size, output_size):\n",
    "        super(ReLUClassificationNeuralNetwork, self).__init__()\n",
    "        self.hidden = nn.Linear(input_size, hidden_size)\n",
    "        self.relu = nn.ReLU()\n",
    "        self.output = nn.Linear(hidden_size, output_size)\n",
    "\n",
    "    def forward(self, x):\n",
    "        hidden_output = self.relu(self.hidden(x))\n",
    "        output = self.output(hidden_output)\n",
    "        return output\n",
    "    \n",
    "    def train_self(self, x_train, y_train, learning_rate=0.001, momentum=0.9, weight_decay=0.001, num_epochs =250, batch_size = 32):\n",
    "        optimizer = optim.SGD(self.parameters(), lr=learning_rate, momentum=momentum, weight_decay=weight_decay)\n",
    "        loss_values = np.zeros((2, num_epochs))\n",
    "        criterion = nn.CrossEntropyLoss()\n",
    "\n",
    "        for epoch in range(num_epochs):\n",
    "            self.train()\n",
    "            indices = torch.randperm(x_train.shape[0])\n",
    "            x_it = x_train[indices]\n",
    "            y_it = y_train[indices]\n",
    "\n",
    "            for i in range (0, x_it.shape[0], batch_size):\n",
    "                inputs = x_it[i:i+batch_size]\n",
    "                targets = y_it[i:i+batch_size]\n",
    "\n",
    "                optimizer.zero_grad()\n",
    "\n",
    "                output = self(inputs)\n",
    "                loss = criterion(output, targets)\n",
    "\n",
    "                loss.backward()\n",
    "                optimizer.step()\n",
    "\n",
    "            self.eval()\n",
    "            y_pred = self(x_train)\n",
    "            ce = float(criterion(y_pred, y_train))\n",
    "            acc = (torch.argmax(y_pred, 1) == torch.argmax(y_train, 1)).float().mean()\n",
    "\n",
    "            loss_values[0, epoch] = ce\n",
    "            loss_values[1, epoch] = acc\n",
    "        \n",
    "        return loss_values"
   ]
  },
  {
   "attachments": {},
   "cell_type": "markdown",
   "metadata": {},
   "source": [
    "## Random Search"
   ]
  },
  {
   "cell_type": "code",
   "execution_count": 507,
   "metadata": {},
   "outputs": [],
   "source": [
    "def random_search_tanh(x, y, x_validation, y_validation, num_models = 10, num_epochs = 250):\n",
    "    best_loss = float('inf')\n",
    "    best_hyperparameters = None\n",
    "    input_size = 8\n",
    "    output_size = 1\n",
    "    model_info = []\n",
    "    criterion = nn.MSELoss()\n",
    "\n",
    "    for i in range(num_models):\n",
    "        # Generate random hyperparameters\n",
    "        hidden_size = random.choice([16, 32, 64, 128])\n",
    "        learning_rate = random.uniform(0.00001, 0.01)\n",
    "        weight_decay = random.uniform(0.00001, 0.01)\n",
    "        momentum = random.uniform(0.5, 0.99)\n",
    "        batch_size = random.choice([16, 32, 64, 128])\n",
    "\n",
    "        hyperparameters = (hidden_size, learning_rate, weight_decay, momentum, batch_size)\n",
    "\n",
    "        # Create the neural network with the random hyperparameters\n",
    "        network = TanhRegressionNeuralNetwork(input_size, hidden_size, output_size)\n",
    "\n",
    "\n",
    "        # Train the network and get the loss values\n",
    "        loss_values = network.train_self(x, \n",
    "                                         y, \n",
    "                                         learning_rate = learning_rate, \n",
    "                                         weight_decay = weight_decay,\n",
    "                                         momentum = momentum, \n",
    "                                         num_epochs = num_epochs, \n",
    "                                         batch_size = batch_size)\n",
    "\n",
    "        regressor.eval()\n",
    "        # Get the final loss value\n",
    "        loss = criterion(network(x_validation), y_validation).item()\n",
    "        rmse_loss = np.sqrt(loss)\n",
    "        model_info.append([rmse_loss, hyperparameters])\n",
    "\n",
    "        # Check if the current hyperparameters are the best\n",
    "        if loss < best_loss:\n",
    "            best_loss = rmse_loss\n",
    "            best_hyperparameters = hyperparameters\n",
    "            best_loss_values = loss_values\n",
    "        \n",
    "        print(\"-------------- Modelo\", i + 1, \"--------------\")\n",
    "        print(\"RMSE =\", rmse_loss)\n",
    "        print(\"Hidden layer neurons =\", hidden_size)\n",
    "        print(\"Learning rate =\", learning_rate)\n",
    "        print(\"Weight Decay =\", weight_decay)\n",
    "        print(\"Momentum =\", momentum)\n",
    "        print(\"Batch size =\", batch_size)\n",
    "        print(\"\")\n",
    "    \n",
    "    return best_hyperparameters, best_loss, model_info, best_loss_values"
   ]
  },
  {
   "cell_type": "code",
   "execution_count": 508,
   "metadata": {},
   "outputs": [],
   "source": [
    "def random_search_relu(x, y, x_validation, y_validation, num_models = 10, num_epochs = 250):\n",
    "    best_loss = float('inf')\n",
    "    best_acc = - float('inf')\n",
    "    best_hyperparameters = None\n",
    "    input_size = x.shape[1]\n",
    "    output_size = 11\n",
    "    model_info = []\n",
    "    criterion = nn.CrossEntropyLoss()\n",
    "\n",
    "    for i in range(num_models):\n",
    "        # Generate random hyperparameters\n",
    "        hidden_size = random.choice([16, 32, 64, 128])\n",
    "        learning_rate = random.uniform(0.00001, 0.01)\n",
    "        weight_decay = random.uniform(0.00001, 0.01)\n",
    "        momentum = random.uniform(0.5, 0.99)\n",
    "        batch_size = random.choice([16, 32, 64, 128])\n",
    "\n",
    "        hyperparameters = (hidden_size, \n",
    "                           learning_rate, \n",
    "                           weight_decay, \n",
    "                           momentum, \n",
    "                           batch_size)\n",
    "\n",
    "        # Create the neural network with the random hyperparameters\n",
    "        network = ReLUClassificationNeuralNetwork(input_size, hidden_size, output_size)\n",
    "\n",
    "\n",
    "        # Train the network and get the loss values\n",
    "        loss_values = network.train_self(x, \n",
    "                                         y, \n",
    "                                         learning_rate = learning_rate, \n",
    "                                         weight_decay = weight_decay,\n",
    "                                         momentum = momentum, \n",
    "                                         num_epochs = num_epochs, \n",
    "                                         batch_size = batch_size)\n",
    "\n",
    "        regressor.eval()\n",
    "        # Get the final loss value\n",
    "        y_pred = network(x_validation)\n",
    "        ce_loss = criterion(y_pred, y_validation).item()\n",
    "        acc = (torch.argmax(y_pred, 1) == torch.argmax(y_validation, 1)).float().mean().item()\n",
    "        model_info.append([acc, hyperparameters])\n",
    "\n",
    "        # Check if the current hyperparameters are the best\n",
    "        if acc > best_acc:\n",
    "            best_loss = ce_loss\n",
    "            best_acc = acc\n",
    "            best_hyperparameters = hyperparameters\n",
    "            best_loss_values = loss_values\n",
    "        \n",
    "        print(\"-------------- Modelo\", i + 1, \"--------------\")\n",
    "        print(\"Cross Entropy =\", ce_loss)\n",
    "        print(\"Accuracy =\", acc)\n",
    "        print(\"Hidden layer neurons =\", hidden_size)\n",
    "        print(\"Learning rate =\", learning_rate)\n",
    "        print(\"Weight Decay =\", weight_decay)\n",
    "        print(\"Momentum =\", momentum)\n",
    "        print(\"Batch size =\", batch_size)\n",
    "        print(\"\")\n",
    "    \n",
    "    return best_hyperparameters, best_acc, best_loss, model_info, best_loss_values"
   ]
  },
  {
   "attachments": {},
   "cell_type": "markdown",
   "metadata": {},
   "source": [
    "## Questão 1"
   ]
  },
  {
   "attachments": {},
   "cell_type": "markdown",
   "metadata": {},
   "source": [
    "### Preparação dos dados"
   ]
  },
  {
   "cell_type": "code",
   "execution_count": 509,
   "metadata": {},
   "outputs": [],
   "source": [
    "data = np.genfromtxt(\"concrete.csv\", delimiter=',')\n",
    "\n",
    "np.random.shuffle(data)\n",
    "normalized_data, min_value, max_value = minMaxScale(data)\n",
    "\n",
    "# Índices\n",
    "train_index = (int) (np.floor(data.shape[0] * 0.6))\n",
    "validation_index = (int) (np.floor(data.shape[0] * 0.8))\n",
    "\n",
    "# Conjuntos de treino\n",
    "train_x = torch.Tensor(data[:train_index, :8]).float()\n",
    "train_y = torch.tensor(data[:train_index, 8].reshape(-1,1)).float()\n",
    "\n",
    "normalized_train_x = torch.Tensor(normalized_data[:train_index, :8]).float()\n",
    "normalized_train_y = torch.tensor(normalized_data[:train_index, 8].reshape(-1,1)).float()\n",
    "\n",
    "# Conjuntos de validação\n",
    "validation_x = torch.Tensor(data[train_index:validation_index, :8]).float()\n",
    "validation_y = torch.Tensor(data[train_index:validation_index, 8].reshape(-1,1)).float()\n",
    "\n",
    "normalized_validation_x = torch.Tensor(normalized_data[train_index:validation_index, :8]).float()\n",
    "normalized_validation_y = torch.Tensor(normalized_data[train_index:validation_index, 8].reshape(-1,1)).float()\n",
    "\n",
    "# Conjuntos de teste\n",
    "test_x = torch.Tensor(data[validation_index:, :8]).float()\n",
    "test_y = torch.Tensor(data[validation_index:, 8].reshape(-1,1)).float()\n",
    "\n",
    "normalized_test_x = torch.Tensor(normalized_data[validation_index:, :8]).float()\n",
    "normalized_test_y = torch.Tensor(normalized_data[validation_index:, 8].reshape(-1,1)).float()\n",
    "\n",
    "# Conjuntos de treino finais (treino + validação)\n",
    "final_train_x = torch.Tensor(data[:validation_index, :8]).float()\n",
    "final_train_y = torch.Tensor(data[:validation_index, 8]).float()\n",
    "\n",
    "normalized_final_train_x = torch.Tensor(normalized_data[:validation_index, :8]).float()\n",
    "normalized_final_train_y = torch.Tensor(normalized_data[:validation_index, 8].reshape(-1,1)).float()"
   ]
  },
  {
   "attachments": {},
   "cell_type": "markdown",
   "metadata": {},
   "source": [
    "### Encontrar hiperparâmetros via Random Search"
   ]
  },
  {
   "cell_type": "code",
   "execution_count": 510,
   "metadata": {},
   "outputs": [
    {
     "name": "stdout",
     "output_type": "stream",
     "text": [
      "-------------- Modelo 1 --------------\n",
      "RMSE = 0.014242794855470043\n",
      "Hidden layer neurons = 64\n",
      "Learning rate = 0.001422807593634927\n",
      "Weight Decay = 0.008929080491468186\n",
      "Momentum = 0.6327851465777012\n",
      "Batch size = 128\n",
      "\n",
      "-------------- Modelo 2 --------------\n",
      "RMSE = 0.012139567274450317\n",
      "Hidden layer neurons = 128\n",
      "Learning rate = 0.0056357070185179435\n",
      "Weight Decay = 0.0076076262524622925\n",
      "Momentum = 0.7929112135699148\n",
      "Batch size = 64\n",
      "\n",
      "-------------- Modelo 3 --------------\n",
      "RMSE = 0.011969735294292795\n",
      "Hidden layer neurons = 128\n",
      "Learning rate = 0.0009593324591930531\n",
      "Weight Decay = 0.009904210194039448\n",
      "Momentum = 0.7848717129490621\n",
      "Batch size = 16\n",
      "\n",
      "-------------- Modelo 4 --------------\n",
      "RMSE = 0.015317176213845714\n",
      "Hidden layer neurons = 16\n",
      "Learning rate = 0.009622945711055693\n",
      "Weight Decay = 0.009515113982625919\n",
      "Momentum = 0.9892656193424749\n",
      "Batch size = 64\n",
      "\n",
      "-------------- Modelo 5 --------------\n",
      "RMSE = 0.012769435711766112\n",
      "Hidden layer neurons = 64\n",
      "Learning rate = 0.008737949413086555\n",
      "Weight Decay = 0.004646464026517798\n",
      "Momentum = 0.5230289976450795\n",
      "Batch size = 64\n",
      "\n",
      "-------------- Modelo 6 --------------\n",
      "RMSE = 0.010593280028995322\n",
      "Hidden layer neurons = 32\n",
      "Learning rate = 0.009148765024393959\n",
      "Weight Decay = 0.0001722493349594797\n",
      "Momentum = 0.7228093799909472\n",
      "Batch size = 32\n",
      "\n",
      "-------------- Modelo 7 --------------\n",
      "RMSE = 0.015165930006696849\n",
      "Hidden layer neurons = 64\n",
      "Learning rate = 0.007137702654884823\n",
      "Weight Decay = 0.008238842697143619\n",
      "Momentum = 0.9615218446900986\n",
      "Batch size = 16\n",
      "\n",
      "-------------- Modelo 8 --------------\n",
      "RMSE = 0.014526790424400176\n",
      "Hidden layer neurons = 64\n",
      "Learning rate = 0.005423536773635801\n",
      "Weight Decay = 0.005224346648970059\n",
      "Momentum = 0.5646314734458795\n",
      "Batch size = 128\n",
      "\n",
      "-------------- Modelo 9 --------------\n",
      "RMSE = 0.009808312192274602\n",
      "Hidden layer neurons = 128\n",
      "Learning rate = 0.007357399516240679\n",
      "Weight Decay = 0.0006321229692335786\n",
      "Momentum = 0.7960790803279181\n",
      "Batch size = 16\n",
      "\n",
      "-------------- Modelo 10 --------------\n",
      "RMSE = 0.013125557889392262\n",
      "Hidden layer neurons = 16\n",
      "Learning rate = 0.0038684700542396897\n",
      "Weight Decay = 0.001978146846545491\n",
      "Momentum = 0.5786780441765597\n",
      "Batch size = 32\n",
      "\n"
     ]
    }
   ],
   "source": [
    "hyperparameters, loss, model_info, training_loss = random_search_tanh(normalized_train_x, \n",
    "                                                                         normalized_train_y, \n",
    "                                                                         normalized_validation_x, \n",
    "                                                                         normalized_validation_y,\n",
    "                                                                         num_models = 10,\n",
    "                                                                         num_epochs = 400)"
   ]
  },
  {
   "cell_type": "code",
   "execution_count": 511,
   "metadata": {},
   "outputs": [
    {
     "name": "stdout",
     "output_type": "stream",
     "text": [
      "CONSULTE A TABELA NA CÉLULA ACIMA PARA VER OS HIPERPARÂMETROS DE CADA MODELO\n"
     ]
    },
    {
     "data": {
      "image/png": "[encoded data removed]",
      "text/plain": [
       "<Figure size 432x288 with 1 Axes>"
      ]
     },
     "metadata": {
      "needs_background": "light"
     },
     "output_type": "display_data"
    }
   ],
   "source": [
    "print('CONSULTE A TABELA NA CÉLULA ACIMA PARA VER OS HIPERPARÂMETROS DE CADA MODELO')\n",
    "labels = np.arange(len(model_info)) + 1\n",
    "values = []\n",
    "for (loss, hyper) in model_info:\n",
    "    values.append(loss)\n",
    "\n",
    "plt.title('RMSE na validação dos modelos gerados pelo Random search\\n')\n",
    "plt.bar(labels, values, align='center')\n",
    "plt.show()"
   ]
  },
  {
   "cell_type": "code",
   "execution_count": 512,
   "metadata": {},
   "outputs": [
    {
     "name": "stdout",
     "output_type": "stream",
     "text": [
      "Melhores hiperparâmetros: \n",
      "Hidden layer neurons = 16\n",
      "Learning rate = 0.0038684700542396897\n",
      "Weight Decay = 0.001978146846545491\n",
      "Momentum = 0.5786780441765597\n",
      "Batch size = 32\n",
      "\n"
     ]
    }
   ],
   "source": [
    "print('Melhores hiperparâmetros: ')\n",
    "print(\"Hidden layer neurons =\", hyperparameters[0])\n",
    "print(\"Learning rate =\", hyperparameters[1])\n",
    "print(\"Weight Decay =\", hyperparameters[2])\n",
    "print(\"Momentum =\", hyperparameters[3])\n",
    "print(\"Batch size =\", hyperparameters[4])\n",
    "print(\"\")"
   ]
  },
  {
   "attachments": {},
   "cell_type": "markdown",
   "metadata": {},
   "source": [
    "### Treinar Rede neural final com hiperparâmetros obtidos"
   ]
  },
  {
   "cell_type": "code",
   "execution_count": 513,
   "metadata": {},
   "outputs": [
    {
     "data": {
      "image/png": "[encoded data removed]",
      "text/plain": [
       "<Figure size 432x288 with 1 Axes>"
      ]
     },
     "metadata": {
      "needs_background": "light"
     },
     "output_type": "display_data"
    },
    {
     "data": {
      "image/png": "[encoded data removed]",
      "text/plain": [
       "<Figure size 432x288 with 1 Axes>"
      ]
     },
     "metadata": {
      "needs_background": "light"
     },
     "output_type": "display_data"
    },
    {
     "data": {
      "image/png": "[encoded data removed]",
      "text/plain": [
       "<Figure size 432x288 with 1 Axes>"
      ]
     },
     "metadata": {
      "needs_background": "light"
     },
     "output_type": "display_data"
    },
    {
     "name": "stdout",
     "output_type": "stream",
     "text": [
      "RMSE no teste: 0.015244539760121115\n",
      "MAE no teste: 0.01219429075717926\n",
      "MARE no teste: 0.004061093032360077\n"
     ]
    }
   ],
   "source": [
    "regressor = TanhRegressionNeuralNetwork(8, hyperparameters[0], 1)\n",
    "\n",
    "test_loss = regressor.train_self(normalized_final_train_x, \n",
    "                                 normalized_final_train_y, \n",
    "                                 num_epochs=400, \n",
    "                                 learning_rate=hyperparameters[1], \n",
    "                                 weight_decay=hyperparameters[2], \n",
    "                                 momentum=hyperparameters[3], \n",
    "                                 batch_size=hyperparameters[4])\n",
    "\n",
    "# Calcula os erros no teste\n",
    "regressor.eval()\n",
    "y_pred = regressor(normalized_test_x)\n",
    "lossFunction = nn.MSELoss()\n",
    "\n",
    "test_rmse = np.sqrt(lossFunction(y_pred, normalized_test_y).item())\n",
    "\n",
    "lossFunction = nn.L1Loss()\n",
    "\n",
    "test_mae = lossFunction(y_pred, normalized_test_y).item()\n",
    "\n",
    "test_mare = mean_absolute_percentage_error(y_pred.detach().numpy(), normalized_test_y.detach().numpy())\n",
    "test_mare /= 100\n",
    "\n",
    "\n",
    "\n",
    "# Plota os erros no treino e validação\n",
    "plt.title(\"RMSE por iteração no treino e na validação da Rede Neural\")\n",
    "plt.plot(np.arange(training_loss.shape[1]), training_loss[0], color='red', label='Treino')\n",
    "plt.plot(np.arange(test_loss.shape[1]), test_loss[0], label='Validação')\n",
    "plt.show()\n",
    "\n",
    "plt.title(\"MAE por iteração no treino e na validação da Rede Neural\")\n",
    "plt.plot(np.arange(training_loss.shape[1]), training_loss[1], color='red', label=\"Treino\")\n",
    "plt.plot(np.arange(test_loss.shape[1]), test_loss[1], label='Validação')\n",
    "plt.show()\n",
    "\n",
    "plt.title(\"MARE por iteração no treino e na validação da Rede Neural\")\n",
    "plt.plot(np.arange(training_loss.shape[1]), training_loss[2], color='red', label=\"Treino\")\n",
    "plt.plot(np.arange(test_loss.shape[1]), test_loss[2], label='Validação')\n",
    "plt.show()\n",
    "\n",
    "# Printa os erros no teste\n",
    "print(\"RMSE no teste:\", test_rmse)\n",
    "print(\"MAE no teste:\", test_mae)\n",
    "print(\"MARE no teste:\", test_mare)"
   ]
  },
  {
   "attachments": {},
   "cell_type": "markdown",
   "metadata": {},
   "source": [
    "## Questão 2"
   ]
  },
  {
   "attachments": {},
   "cell_type": "markdown",
   "metadata": {},
   "source": [
    "### Preparação dos dados"
   ]
  },
  {
   "cell_type": "code",
   "execution_count": 514,
   "metadata": {},
   "outputs": [
    {
     "name": "stderr",
     "output_type": "stream",
     "text": [
      "/tmp/ipykernel_2379/3034839501.py:18: UserWarning: To copy construct from a tensor, it is recommended to use sourceTensor.clone().detach() or sourceTensor.clone().detach().requires_grad_(True), rather than torch.tensor(sourceTensor).\n",
      "  train_y = torch.tensor(one_hot_y[:train_index, :])\n"
     ]
    }
   ],
   "source": [
    "data = np.genfromtxt(\"vowel.csv\", delimiter=',')\n",
    "np.random.shuffle(data)\n",
    "\n",
    "x = torch.Tensor(data[:, :10])\n",
    "y = torch.Tensor(data[:, 10].reshape(-1, 1))\n",
    "\n",
    "enc = OneHotEncoder(handle_unknown='ignore')\n",
    "enc.fit(y)\n",
    "one_hot_y = torch.tensor(enc.transform(y).toarray())\n",
    "\n",
    "# Índices\n",
    "\n",
    "train_index = (int) (np.floor(data.shape[0] * 0.6))\n",
    "validation_index = (int) (np.floor(data.shape[0] * 0.8))\n",
    "\n",
    "# Conjuntos de treino\n",
    "train_x = torch.Tensor(x[:train_index, :10]).float()\n",
    "train_y = torch.tensor(one_hot_y[:train_index, :])\n",
    "\n",
    "# Conjuntos de validação\n",
    "validation_x = torch.Tensor(data[train_index:validation_index, :10]).float()\n",
    "validation_y = torch.Tensor(one_hot_y[train_index:validation_index, :])\n",
    "\n",
    "# Conjuntos de teste\n",
    "test_x = torch.Tensor(data[validation_index:, :10]).float()\n",
    "test_y = torch.Tensor(one_hot_y[validation_index:, :]).long()\n",
    "\n",
    "# Conjuntos de treino finais (treino + validação)\n",
    "final_train_x = torch.Tensor(data[:validation_index, :10]).float()\n",
    "final_train_y = torch.Tensor(one_hot_y[:validation_index, :])"
   ]
  },
  {
   "attachments": {},
   "cell_type": "markdown",
   "metadata": {},
   "source": [
    "### Encontrar melhores hiperparâmetros via Random Search"
   ]
  },
  {
   "cell_type": "code",
   "execution_count": 515,
   "metadata": {},
   "outputs": [
    {
     "name": "stdout",
     "output_type": "stream",
     "text": [
      "-------------- Modelo 1 --------------\n",
      "Cross Entropy = 0.6078874499200739\n",
      "Accuracy = 0.7676767706871033\n",
      "Hidden layer neurons = 32\n",
      "Learning rate = 0.008383162971878863\n",
      "Weight Decay = 0.003659300815419014\n",
      "Momentum = 0.9263250798596674\n",
      "Batch size = 128\n",
      "\n",
      "-------------- Modelo 2 --------------\n",
      "Cross Entropy = 0.9984348613411339\n",
      "Accuracy = 0.6363636255264282\n",
      "Hidden layer neurons = 32\n",
      "Learning rate = 0.005184244191716444\n",
      "Weight Decay = 0.007940432652536909\n",
      "Momentum = 0.8217818617798227\n",
      "Batch size = 64\n",
      "\n",
      "-------------- Modelo 3 --------------\n",
      "Cross Entropy = 0.2951387971333859\n",
      "Accuracy = 0.8888888955116272\n",
      "Hidden layer neurons = 32\n",
      "Learning rate = 0.009145945756923606\n",
      "Weight Decay = 0.0008296730518998271\n",
      "Momentum = 0.9855007579562404\n",
      "Batch size = 128\n",
      "\n",
      "-------------- Modelo 4 --------------\n",
      "Cross Entropy = 0.5111686979312299\n",
      "Accuracy = 0.8131313323974609\n",
      "Hidden layer neurons = 64\n",
      "Learning rate = 0.009996604078756684\n",
      "Weight Decay = 0.003984481731996828\n",
      "Momentum = 0.6739304166172264\n",
      "Batch size = 16\n",
      "\n",
      "-------------- Modelo 5 --------------\n",
      "Cross Entropy = 1.8629078554986702\n",
      "Accuracy = 0.31313130259513855\n",
      "Hidden layer neurons = 64\n",
      "Learning rate = 0.0004862152208689321\n",
      "Weight Decay = 0.0037338221968775676\n",
      "Momentum = 0.8800185976911338\n",
      "Batch size = 128\n",
      "\n",
      "-------------- Modelo 6 --------------\n",
      "Cross Entropy = 1.0287502432251443\n",
      "Accuracy = 0.6262626051902771\n",
      "Hidden layer neurons = 16\n",
      "Learning rate = 0.00597714255895814\n",
      "Weight Decay = 0.0030915960461598705\n",
      "Momentum = 0.6067196606431542\n",
      "Batch size = 32\n",
      "\n",
      "-------------- Modelo 7 --------------\n",
      "Cross Entropy = 1.0121022543559473\n",
      "Accuracy = 0.6414141654968262\n",
      "Hidden layer neurons = 64\n",
      "Learning rate = 0.007346195927250712\n",
      "Weight Decay = 0.0019332227812943927\n",
      "Momentum = 0.561022233966977\n",
      "Batch size = 64\n",
      "\n",
      "-------------- Modelo 8 --------------\n",
      "Cross Entropy = 1.3466838134659662\n",
      "Accuracy = 0.5050504803657532\n",
      "Hidden layer neurons = 16\n",
      "Learning rate = 0.0034069693003083456\n",
      "Weight Decay = 0.007367391553962037\n",
      "Momentum = 0.732737498684272\n",
      "Batch size = 64\n",
      "\n",
      "-------------- Modelo 9 --------------\n",
      "Cross Entropy = 0.9413040647885264\n",
      "Accuracy = 0.6868686676025391\n",
      "Hidden layer neurons = 128\n",
      "Learning rate = 0.005298175029315204\n",
      "Weight Decay = 0.007493425809435145\n",
      "Momentum = 0.5895591215554685\n",
      "Batch size = 32\n",
      "\n",
      "-------------- Modelo 10 --------------\n",
      "Cross Entropy = 0.6460274072737913\n",
      "Accuracy = 0.808080792427063\n",
      "Hidden layer neurons = 128\n",
      "Learning rate = 0.005049340248047097\n",
      "Weight Decay = 0.004546844222264431\n",
      "Momentum = 0.6068761356070046\n",
      "Batch size = 16\n",
      "\n"
     ]
    }
   ],
   "source": [
    "hyperparameters, acc, loss, model_info, training_loss = random_search_relu(train_x, \n",
    "                                                                           train_y, \n",
    "                                                                           validation_x, \n",
    "                                                                           validation_y,\n",
    "                                                                           num_models = 10,\n",
    "                                                                           num_epochs = 400)"
   ]
  },
  {
   "cell_type": "code",
   "execution_count": 516,
   "metadata": {},
   "outputs": [
    {
     "name": "stdout",
     "output_type": "stream",
     "text": [
      "CONSULTE A TABELA NA CÉLULA ACIMA PARA VER OS HIPERPARÂMETROS DE CADA MODELO\n"
     ]
    },
    {
     "data": {
      "image/png": "[encoded data removed]",
      "text/plain": [
       "<Figure size 432x288 with 1 Axes>"
      ]
     },
     "metadata": {
      "needs_background": "light"
     },
     "output_type": "display_data"
    }
   ],
   "source": [
    "print('CONSULTE A TABELA NA CÉLULA ACIMA PARA VER OS HIPERPARÂMETROS DE CADA MODELO')\n",
    "labels = np.arange(len(model_info)) + 1\n",
    "values = []\n",
    "for (acc, hyper) in model_info:\n",
    "    values.append(acc)\n",
    "\n",
    "plt.title('Acurácias na validação dos modelos gerados pelo Random search\\n')\n",
    "plt.bar(labels, values, align='center')\n",
    "plt.show()"
   ]
  },
  {
   "cell_type": "code",
   "execution_count": 517,
   "metadata": {},
   "outputs": [
    {
     "name": "stdout",
     "output_type": "stream",
     "text": [
      "Melhores hiperparâmetros: \n",
      "Hidden layer neurons = 32\n",
      "Learning rate = 0.009145945756923606\n",
      "Weight Decay = 0.0008296730518998271\n",
      "Momentum = 0.9855007579562404\n",
      "Batch size = 128\n",
      "\n"
     ]
    }
   ],
   "source": [
    "print('Melhores hiperparâmetros: ')\n",
    "print(\"Hidden layer neurons =\", hyperparameters[0])\n",
    "print(\"Learning rate =\", hyperparameters[1])\n",
    "print(\"Weight Decay =\", hyperparameters[2])\n",
    "print(\"Momentum =\", hyperparameters[3])\n",
    "print(\"Batch size =\", hyperparameters[4])\n",
    "print(\"\")"
   ]
  },
  {
   "attachments": {},
   "cell_type": "markdown",
   "metadata": {},
   "source": [
    "### Treinar rede neural final com os hiperparâmetros obtidos"
   ]
  },
  {
   "cell_type": "code",
   "execution_count": 518,
   "metadata": {},
   "outputs": [
    {
     "ename": "NameError",
     "evalue": "name 'clasisficador' is not defined",
     "output_type": "error",
     "traceback": [
      "\u001b[0;31m---------------------------------------------------------------------------\u001b[0m",
      "\u001b[0;31mNameError\u001b[0m                                 Traceback (most recent call last)",
      "\u001b[0;32m/tmp/ipykernel_2379/1750965046.py\u001b[0m in \u001b[0;36m<module>\u001b[0;34m\u001b[0m\n\u001b[1;32m     12\u001b[0m \u001b[0mclassificador\u001b[0m\u001b[0;34m.\u001b[0m\u001b[0meval\u001b[0m\u001b[0;34m(\u001b[0m\u001b[0;34m)\u001b[0m\u001b[0;34m\u001b[0m\u001b[0;34m\u001b[0m\u001b[0m\n\u001b[1;32m     13\u001b[0m \u001b[0mce_fn\u001b[0m \u001b[0;34m=\u001b[0m \u001b[0mnn\u001b[0m\u001b[0;34m.\u001b[0m\u001b[0mCrossEntropyLoss\u001b[0m\u001b[0;34m(\u001b[0m\u001b[0;34m)\u001b[0m\u001b[0;34m\u001b[0m\u001b[0;34m\u001b[0m\u001b[0m\n\u001b[0;32m---> 14\u001b[0;31m \u001b[0my_pred\u001b[0m \u001b[0;34m=\u001b[0m \u001b[0mclasisficador\u001b[0m\u001b[0;34m(\u001b[0m\u001b[0mtest_x\u001b[0m\u001b[0;34m)\u001b[0m\u001b[0;34m\u001b[0m\u001b[0;34m\u001b[0m\u001b[0m\n\u001b[0m\u001b[1;32m     15\u001b[0m \u001b[0;34m\u001b[0m\u001b[0m\n\u001b[1;32m     16\u001b[0m \u001b[0mce_final\u001b[0m \u001b[0;34m=\u001b[0m \u001b[0mfloat\u001b[0m\u001b[0;34m(\u001b[0m\u001b[0mce_fn\u001b[0m\u001b[0;34m(\u001b[0m\u001b[0my_pred\u001b[0m\u001b[0;34m,\u001b[0m \u001b[0my_train\u001b[0m\u001b[0;34m)\u001b[0m\u001b[0;34m)\u001b[0m\u001b[0;34m\u001b[0m\u001b[0;34m\u001b[0m\u001b[0m\n",
      "\u001b[0;31mNameError\u001b[0m: name 'clasisficador' is not defined"
     ]
    }
   ],
   "source": [
    "classificador = ReLUClassificationNeuralNetwork(x.shape[1], 16, 11)\n",
    "\n",
    "loss = classificador.train_self(final_train_x, \n",
    "                                final_train_y, \n",
    "                                num_epochs=400, \n",
    "                                learning_rate=hyperparameters[1], \n",
    "                                weight_decay=hyperparameters[2], \n",
    "                                momentum=hyperparameters[3], \n",
    "                                batch_size=hyperparameters[4])\n",
    "\n",
    "# Calcula a cross entropia e a acurácia no teste\n",
    "classificador.eval()\n",
    "ce_fn = nn.CrossEntropyLoss()\n",
    "y_pred = clasisficador(test_x)\n",
    "\n",
    "ce_final = float(ce_fn(y_pred, y_train))\n",
    "acc_final = (torch.argmax(y_pred, 1) == torch.argmax(y_train, 1)).float().mean()\n",
    "\n",
    "# Plota os gráficos da cross entropia e acurácia no treino e validação\n",
    "plt.title(\"CEL por iteração na validação da Rede Neural\")\n",
    "plt.plot(np.arange(training_loss.shape[1]), training_loss[0], color='red', label=\"Treino\")\n",
    "plt.plot(np.arange(loss.shape[1]), loss[0], label=\"Validação\")\n",
    "plt.show()\n",
    "\n",
    "plt.title(\"Acurácia por iteração na validação da Rede Neural\")\n",
    "plt.plot(np.arange(training_loss.shape[1]), training_loss[1], color='red', label=\"Treino\")\n",
    "plt.plot(np.arange(loss.shape[1]), loss[1], label=\"Validação\")\n",
    "plt.show()\n",
    "\n",
    "# Printa a cross entropia e a acurácia no teste\n",
    "print(\"Cross entropy no teste:\", ce_final)\n",
    "print(\"Acurácia no teste:\", acc_final)"
   ]
  }
 ],
 "metadata": {
  "kernelspec": {
   "display_name": "Python 3",
   "language": "python",
   "name": "python3"
  },
  "language_info": {
   "codemirror_mode": {
    "name": "ipython",
    "version": 3
   },
   "file_extension": ".py",
   "mimetype": "text/x-python",
   "name": "python",
   "nbconvert_exporter": "python",
   "pygments_lexer": "ipython3",
   "version": "3.10.6"
  },
  "orig_nbformat": 4
 },
 "nbformat": 4,
 "nbformat_minor": 2
}
