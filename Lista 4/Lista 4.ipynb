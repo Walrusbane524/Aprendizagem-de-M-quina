{
 "cells": [
  {
   "cell_type": "code",
   "execution_count": 547,
   "metadata": {},
   "outputs": [],
   "source": [
    "import torch\n",
    "import torch.nn as nn\n",
    "import torch.optim as optim\n",
    "import numpy as np\n",
    "import matplotlib.pyplot as plt\n",
    "import random"
   ]
  },
  {
   "attachments": {},
   "cell_type": "markdown",
   "metadata": {},
   "source": [
    "## Z-score"
   ]
  },
  {
   "cell_type": "code",
   "execution_count": 548,
   "metadata": {},
   "outputs": [],
   "source": [
    "def zScoreScale(x):\n",
    "    data = x\n",
    "    mean = data.mean()\n",
    "    sig = np.sqrt(((data - mean)**2).sum())\n",
    "    scaled_x = np.zeros(x.shape)\n",
    "    \n",
    "    scaled_data = (data - mean)/sig\n",
    "    for i in range(x.shape[1]):\n",
    "        scaled_x[:,i] = scaled_data[:,i]\n",
    "    return scaled_x, mean, sig\n",
    "\n",
    "def zScoreDescale(x, mean, sig):\n",
    "    scaled_data = x\n",
    "    descaled_data = scaled_data * sig + mean\n",
    "    \n",
    "    descaled_x = np.zeros(x.shape)\n",
    "    for i in range(x.shape[1]):\n",
    "        descaled_x[:,i] = descaled_data[:,i]\n",
    "        \n",
    "    return descaled_x"
   ]
  },
  {
   "attachments": {},
   "cell_type": "markdown",
   "metadata": {},
   "source": [
    "## Redes neurais"
   ]
  },
  {
   "cell_type": "code",
   "execution_count": 549,
   "metadata": {},
   "outputs": [],
   "source": [
    "class TanhRegressionNeuralNetwork(nn.Module):\n",
    "    def __init__(self, input_size, hidden_size, output_size):\n",
    "        super(TanhRegressionNeuralNetwork, self).__init__()\n",
    "        self.hidden = nn.Linear(input_size, hidden_size)\n",
    "        self.tanh = nn.Tanh()\n",
    "        self.output = nn.Linear(hidden_size, output_size)\n",
    "\n",
    "    def forward(self, x):\n",
    "        return self.output(self.tanh(self.hidden(x)))\n",
    "\n",
    "    def train(self, x_train, y_train, learning_rate=0.001, momentum=0.9, weight_decay=0.001, num_epochs=250, batch_size=32):\n",
    "        optimizer = optim.SGD(self.parameters(), lr=learning_rate, momentum=momentum, weight_decay=weight_decay)\n",
    "        loss_values = np.zeros(num_epochs)\n",
    "        criterion = nn.MSELoss()\n",
    "\n",
    "        for epoch in range(num_epochs):\n",
    "            indices = torch.randperm(x_train.shape[0])\n",
    "            x_it = x_train[indices]\n",
    "            y_it = y_train[indices]\n",
    "\n",
    "            for i in range(0, x_it.shape[0], batch_size):\n",
    "                inputs = x_it[i:i + batch_size]\n",
    "                targets = y_it[i:i + batch_size]\n",
    "\n",
    "                optimizer.zero_grad()\n",
    "\n",
    "                output = self(inputs)\n",
    "                loss = criterion(output, targets)\n",
    "\n",
    "                # L2 regularization\n",
    "                # l2_regularization = 0.0\n",
    "                # for param in self.parameters():\n",
    "                #    l2_regularization += torch.norm(param, p=2)\n",
    "\n",
    "                # loss += weight_decay * l2_regularization\n",
    "\n",
    "                loss.backward()\n",
    "                optimizer.step()\n",
    "\n",
    "            loss_values[epoch] = loss.item()\n",
    "\n",
    "        return loss_values\n",
    "        "
   ]
  },
  {
   "cell_type": "code",
   "execution_count": 550,
   "metadata": {},
   "outputs": [],
   "source": [
    "class ReLUClassificationNeuralNetwork():\n",
    "    def __init__(self, input_size, hidden_size, output_size, dim):\n",
    "        super(RegressionNeuralNetwork, self).__init__()\n",
    "        self.hidden = nn.Linear(input_size, hidden_size)\n",
    "        self.relu = nn.ReLU()\n",
    "        self.output = nn.Linear(hidden_size, output_size)\n",
    "        self.softmax = nn.Softmax(dim = dim)\n",
    "\n",
    "    def forward(self, x):\n",
    "        x = self.hidden(x)\n",
    "        x = self.relu(x)\n",
    "        x = self.output(x)\n",
    "        x = self.softmax(x)\n",
    "        return x\n",
    "    \n",
    "    def train(self, x_train, y_train, learning_rate = 0.001, momentum = 0.9, num_epochs = 250, batch_size = 32):\n",
    "        optimizer = optim.SGD(self.parameters(), lr=learning_rate, momentum=momentum)\n",
    "        lossValues = np.zeros(num_epochs)\n",
    "        lossFunction = nn.CrossEntropyLoss()\n",
    "\n",
    "        for epoch in range(num_epochs):\n",
    "\n",
    "            indices = torch.randperm(x_train.shape[0])\n",
    "            x_it = x_train[indices]\n",
    "            y_it = y_train[indices]\n",
    "\n",
    "            for i in range (0, x_it.shape[0], batch_size):\n",
    "                inputs = x_it[i:i+batch_size]\n",
    "                targets = y_it[i:i+batch_size]\n",
    "\n",
    "                optimizer.zero_grad()\n",
    "\n",
    "                output = self(inputs)\n",
    "                loss = lossFunction(output, targets)\n",
    "\n",
    "                loss.backward()\n",
    "                optimizer.step()\n",
    "\n",
    "            lossValues[epoch] = loss.item()\n",
    "        \n",
    "        return lossValues\n"
   ]
  },
  {
   "attachments": {},
   "cell_type": "markdown",
   "metadata": {},
   "source": [
    "## Random Search"
   ]
  },
  {
   "cell_type": "code",
   "execution_count": 551,
   "metadata": {},
   "outputs": [],
   "source": [
    "def random_search_tanh(x, y, x_validation, y_validation, num_models = 10, num_epochs= 250):\n",
    "    best_loss = float('inf')\n",
    "    best_hyperparameters = None\n",
    "    input_size = x.shape[1]\n",
    "    output_size = 1\n",
    "    iterations = []\n",
    "    criterion = nn.MSELoss()\n",
    "\n",
    "    for i in range(num_models):\n",
    "        # Generate random hyperparameters\n",
    "        hidden_size = random.choice([16, 32, 64, 128])\n",
    "        learning_rate = random.uniform(0.00001, 0.1)\n",
    "        weight_decay = random.uniform(0.00001, 0.01)\n",
    "        momentum = random.uniform(0.5, 0.9)\n",
    "        batch_size = random.choice([16, 32, 64, 128])\n",
    "\n",
    "        hyperparameters = (hidden_size, learning_rate, weight_decay, momentum, batch_size)\n",
    "\n",
    "        # Create the neural network with the random hyperparameters\n",
    "        network = TanhRegressionNeuralNetwork(input_size, hidden_size, output_size)\n",
    "\n",
    "        # Train the network and get the loss values\n",
    "        loss_values = network.train(x, \n",
    "                                    y, \n",
    "                                    learning_rate = learning_rate, \n",
    "                                    weight_decay = weight_decay,\n",
    "                                    momentum = momentum, \n",
    "                                    num_epochs = num_epochs, \n",
    "                                    batch_size = batch_size)\n",
    "\n",
    "        # Get the final loss value\n",
    "        loss = criterion(network(x_validation), y_validation).item()\n",
    "\n",
    "        iterations.append([loss, hyperparameters])\n",
    "\n",
    "        # Check if the current hyperparameters are the best\n",
    "        if loss < best_loss:\n",
    "            best_loss = loss\n",
    "            best_hyperparameters = hyperparameters\n",
    "        \n",
    "        print(\"-------------- Modelo\", i + 1, \"--------------\")\n",
    "        print(\"MSE =\", loss)\n",
    "        print(\"Hidden layer neurons =\", hidden_size)\n",
    "        print(\"Learning rate =\", learning_rate)\n",
    "        print(\"Weight Decay =\", weight_decay)\n",
    "        print(\"Momentum =\", momentum)\n",
    "        print(\"Batch size =\", batch_size)\n",
    "        print(\"\")\n",
    "        \n",
    "\n",
    "    return best_hyperparameters, best_loss, iterations"
   ]
  },
  {
   "attachments": {},
   "cell_type": "markdown",
   "metadata": {},
   "source": [
    "## Questão 1"
   ]
  },
  {
   "attachments": {},
   "cell_type": "markdown",
   "metadata": {},
   "source": [
    "### Preparação dos dados"
   ]
  },
  {
   "cell_type": "code",
   "execution_count": 552,
   "metadata": {},
   "outputs": [],
   "source": [
    "data = np.genfromtxt(\"concrete.csv\", delimiter=',')\n",
    "normalized_data, mean, sig = zScoreScale(data)\n",
    "\n",
    "# Índices\n",
    "indices = np.random.permutation(data.shape[0]).reshape(-1,1)\n",
    "train_index = (int) (np.floor(data.shape[0] * 0.6))\n",
    "validation_index = (int) (np.floor(data.shape[0] * 0.8))\n",
    "\n",
    "# Conjuntos de treino\n",
    "train_x = torch.Tensor(data[:train_index, :8]).float()\n",
    "train_y = torch.tensor(data[:train_index, 8].reshape(-1,1)).float()\n",
    "\n",
    "normalized_train_x = torch.Tensor(normalized_data[:train_index, :8]).float()\n",
    "normalized_train_y = torch.tensor(normalized_data[:train_index, 8].reshape(-1,1)).float()\n",
    "\n",
    "# Conjuntos de validação\n",
    "validation_x = torch.Tensor(data[train_index:validation_index, :8]).float()\n",
    "validation_y = torch.Tensor(data[train_index:validation_index, 8].reshape(-1,1)).float()\n",
    "\n",
    "normalized_validation_x = torch.Tensor(normalized_data[train_index:validation_index, :8]).float()\n",
    "normalized_validation_y = torch.Tensor(normalized_data[train_index:validation_index, 8].reshape(-1,1)).float()\n",
    "\n",
    "# Conjuntos de teste\n",
    "test_x = torch.Tensor(data[validation_index:, :8]).float()\n",
    "test_y = torch.Tensor(data[validation_index:, 8].reshape(-1,1)).float()\n",
    "\n",
    "normalized_test_x = torch.Tensor(normalized_data[validation_index:, :8]).float()\n",
    "normalized_test_y = torch.Tensor(normalized_data[validation_index:, 8].reshape(-1,1)).float()\n",
    "\n",
    "# Conjuntos de treino finais (treino + validação)\n",
    "final_train_x = torch.Tensor(data[:validation_index, :8]).float()\n",
    "final_train_y = torch.Tensor(data[:validation_index, 8]).float()\n",
    "\n",
    "normalized_final_train_x = torch.Tensor(normalized_data[:validation_index, :8]).float()\n",
    "normalized_final_train_y = torch.Tensor(normalized_data[:validation_index, 8]).float()"
   ]
  },
  {
   "attachments": {},
   "cell_type": "markdown",
   "metadata": {},
   "source": [
    "### Encontrar hiperparâmetros via Random Search"
   ]
  },
  {
   "cell_type": "code",
   "execution_count": 553,
   "metadata": {},
   "outputs": [
    {
     "name": "stdout",
     "output_type": "stream",
     "text": [
      "-------------- Modelo 1 --------------\n",
      "MSE = 4.019149741907313e-07\n",
      "Hidden layer neurons = 128\n",
      "Learning rate = 0.0597648489073039\n",
      "Weight Decay = 0.003838052942899504\n",
      "Momentum = 0.8321963955511422\n",
      "Batch size = 16\n",
      "\n",
      "-------------- Modelo 2 --------------\n",
      "MSE = 3.5356615057935414e-07\n",
      "Hidden layer neurons = 32\n",
      "Learning rate = 0.052302950643315714\n",
      "Weight Decay = 0.002424850409196332\n",
      "Momentum = 0.799176655868708\n",
      "Batch size = 64\n",
      "\n",
      "-------------- Modelo 3 --------------\n",
      "MSE = 3.801926027335867e-07\n",
      "Hidden layer neurons = 32\n",
      "Learning rate = 0.07159541105562907\n",
      "Weight Decay = 0.008372221900835329\n",
      "Momentum = 0.5484378405874311\n",
      "Batch size = 64\n",
      "\n",
      "-------------- Modelo 4 --------------\n",
      "MSE = 3.6260203728488705e-07\n",
      "Hidden layer neurons = 128\n",
      "Learning rate = 0.032106747696806055\n",
      "Weight Decay = 0.0073696573664843515\n",
      "Momentum = 0.5712071790551317\n",
      "Batch size = 64\n",
      "\n"
     ]
    }
   ],
   "source": [
    "hyperparameters, loss, iterations = random_search_tanh(normalized_train_x, \n",
    "                                                       normalized_train_y, \n",
    "                                                       normalized_validation_x, \n",
    "                                                       normalized_validation_y,\n",
    "                                                       num_models = 10,\n",
    "                                                       num_epochs = 500)"
   ]
  },
  {
   "cell_type": "code",
   "execution_count": null,
   "metadata": {},
   "outputs": [
    {
     "name": "stdout",
     "output_type": "stream",
     "text": [
      "CONSULTE A TABELA NA CÉLULA ACIMA PARA VER OS HIPERPARÂMETROS DE CADA MODELO\n"
     ]
    },
    {
     "data": {
      "image/png": "[encoded data removed]",
      "text/plain": [
       "<Figure size 432x288 with 1 Axes>"
      ]
     },
     "metadata": {
      "needs_background": "light"
     },
     "output_type": "display_data"
    }
   ],
   "source": [
    "print('CONSULTE A TABELA NA CÉLULA ACIMA PARA VER OS HIPERPARÂMETROS DE CADA MODELO')\n",
    "labels = np.arange(len(iterations)) + 1\n",
    "values = []\n",
    "for (loss, hyper) in iterations:\n",
    "    values.append(loss)\n",
    "\n",
    "plt.title('MSE na validação dos modelos gerados pelo Random search\\n')\n",
    "plt.bar(labels, values, align='center')\n",
    "plt.show()"
   ]
  },
  {
   "cell_type": "code",
   "execution_count": null,
   "metadata": {},
   "outputs": [
    {
     "name": "stdout",
     "output_type": "stream",
     "text": [
      "Melhores hiperparâmetros: \n",
      "Hidden layer neurons = 32\n",
      "Learning rate = 0.011219198635277072\n",
      "Weight Decay = 0.00129744575645032\n",
      "Momentum = 0.623156554685248\n",
      "Batch size = 32\n",
      "\n"
     ]
    }
   ],
   "source": [
    "print('Melhores hiperparâmetros: ')\n",
    "print(\"Hidden layer neurons =\", hyperparameters[0])\n",
    "print(\"Learning rate =\", hyperparameters[1])\n",
    "print(\"Weight Decay =\", hyperparameters[2])\n",
    "print(\"Momentum =\", hyperparameters[3])\n",
    "print(\"Batch size =\", hyperparameters[4])\n",
    "print(\"\")"
   ]
  },
  {
   "attachments": {},
   "cell_type": "markdown",
   "metadata": {},
   "source": [
    "### Treinar Rede neural final com hiperparâmetros obtidos"
   ]
  },
  {
   "cell_type": "code",
   "execution_count": null,
   "metadata": {},
   "outputs": [
    {
     "name": "stderr",
     "output_type": "stream",
     "text": [
      "/usr/local/lib/python3.10/dist-packages/torch/nn/modules/loss.py:536: UserWarning: Using a target size (torch.Size([32])) that is different to the input size (torch.Size([32, 1])). This will likely lead to incorrect results due to broadcasting. Please ensure they have the same size.\n",
      "  return F.mse_loss(input, target, reduction=self.reduction)\n",
      "/usr/local/lib/python3.10/dist-packages/torch/nn/modules/loss.py:536: UserWarning: Using a target size (torch.Size([24])) that is different to the input size (torch.Size([24, 1])). This will likely lead to incorrect results due to broadcasting. Please ensure they have the same size.\n",
      "  return F.mse_loss(input, target, reduction=self.reduction)\n"
     ]
    },
    {
     "name": "stdout",
     "output_type": "stream",
     "text": [
      "7.257692118400882e-07\n"
     ]
    },
    {
     "data": {
      "image/png": "[encoded data removed]",
      "text/plain": [
       "<Figure size 432x288 with 1 Axes>"
      ]
     },
     "metadata": {
      "needs_background": "light"
     },
     "output_type": "display_data"
    }
   ],
   "source": [
    "regressor = TanhRegressionNeuralNetwork(8, hyperparameters[0], 1)\n",
    "\n",
    "MSE = regressor.train(normalized_final_train_x, \n",
    "                      normalized_final_train_y, \n",
    "                      num_epochs=500, \n",
    "                      learning_rate=hyperparameters[1], \n",
    "                      weight_decay=hyperparameters[2], \n",
    "                      momentum=hyperparameters[3], \n",
    "                      batch_size=hyperparameters[4])\n",
    "\n",
    "lossFunction = nn.MSELoss()\n",
    "\n",
    "print(lossFunction(regressor(normalized_test_x), normalized_test_y).item())\n",
    "\n",
    "plt.title(\"MSE por iteração da Rede Neural\")\n",
    "plt.plot(np.arange(MSE.size), MSE)\n",
    "plt.show()"
   ]
  },
  {
   "attachments": {},
   "cell_type": "markdown",
   "metadata": {},
   "source": [
    "## Questão 2"
   ]
  },
  {
   "cell_type": "code",
   "execution_count": null,
   "metadata": {},
   "outputs": [
    {
     "ename": "TypeError",
     "evalue": "ReLUClassificationNeuralNetwork.__init__() missing 4 required positional arguments: 'input_size', 'hidden_size', 'output_size', and 'dim'",
     "output_type": "error",
     "traceback": [
      "\u001b[0;31m---------------------------------------------------------------------------\u001b[0m",
      "\u001b[0;31mTypeError\u001b[0m                                 Traceback (most recent call last)",
      "\u001b[0;32m/tmp/ipykernel_2355/1206488711.py\u001b[0m in \u001b[0;36m<module>\u001b[0;34m\u001b[0m\n\u001b[1;32m      4\u001b[0m \u001b[0my\u001b[0m \u001b[0;34m=\u001b[0m \u001b[0mtorch\u001b[0m\u001b[0;34m.\u001b[0m\u001b[0mTensor\u001b[0m\u001b[0;34m(\u001b[0m\u001b[0mdata\u001b[0m\u001b[0;34m[\u001b[0m\u001b[0;34m:\u001b[0m\u001b[0;34m,\u001b[0m \u001b[0;36m10\u001b[0m\u001b[0;34m]\u001b[0m\u001b[0;34m.\u001b[0m\u001b[0mreshape\u001b[0m\u001b[0;34m(\u001b[0m\u001b[0;34m-\u001b[0m\u001b[0;36m1\u001b[0m\u001b[0;34m,\u001b[0m \u001b[0;36m1\u001b[0m\u001b[0;34m)\u001b[0m\u001b[0;34m)\u001b[0m\u001b[0;34m\u001b[0m\u001b[0;34m\u001b[0m\u001b[0m\n\u001b[1;32m      5\u001b[0m \u001b[0;34m\u001b[0m\u001b[0m\n\u001b[0;32m----> 6\u001b[0;31m \u001b[0mclassificator\u001b[0m \u001b[0;34m=\u001b[0m \u001b[0mReLUClassificationNeuralNetwork\u001b[0m\u001b[0;34m(\u001b[0m\u001b[0;34m)\u001b[0m\u001b[0;34m\u001b[0m\u001b[0;34m\u001b[0m\u001b[0m\n\u001b[0m",
      "\u001b[0;31mTypeError\u001b[0m: ReLUClassificationNeuralNetwork.__init__() missing 4 required positional arguments: 'input_size', 'hidden_size', 'output_size', and 'dim'"
     ]
    }
   ],
   "source": [
    "data = np.genfromtxt(\"vowel.csv\", delimiter=',')\n",
    "\n",
    "x = torch.Tensor(data[:, :10])\n",
    "y = torch.Tensor(data[:, 10].reshape(-1, 1))\n",
    "\n",
    "classificator = ReLUClassificationNeuralNetwork()"
   ]
  }
 ],
 "metadata": {
  "kernelspec": {
   "display_name": "Python 3",
   "language": "python",
   "name": "python3"
  },
  "language_info": {
   "codemirror_mode": {
    "name": "ipython",
    "version": 3
   },
   "file_extension": ".py",
   "mimetype": "text/x-python",
   "name": "python",
   "nbconvert_exporter": "python",
   "pygments_lexer": "ipython3",
   "version": "3.10.6"
  },
  "orig_nbformat": 4
 },
 "nbformat": 4,
 "nbformat_minor": 2
}
